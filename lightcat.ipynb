{
  "nbformat": 4,
  "nbformat_minor": 0,
  "metadata": {
    "colab": {
      "provenance": [],
      "include_colab_link": true
    },
    "kernelspec": {
      "name": "python3",
      "display_name": "Python 3"
    },
    "language_info": {
      "name": "python"
    }
  },
  "cells": [
    {
      "cell_type": "markdown",
      "metadata": {
        "id": "view-in-github",
        "colab_type": "text"
      },
      "source": [
        "<a href=\"https://colab.research.google.com/github/mamekin05108/signatecup2024summer/blob/main/lightcat.ipynb\" target=\"_parent\"><img src=\"https://colab.research.google.com/assets/colab-badge.svg\" alt=\"Open In Colab\"/></a>"
      ]
    },
    {
      "cell_type": "code",
      "execution_count": 1,
      "metadata": {
        "colab": {
          "base_uri": "https://localhost:8080/"
        },
        "id": "bvcbxY4UzTh3",
        "outputId": "387e50b8-16ad-4724-f282-4199d9de5f0f"
      },
      "outputs": [
        {
          "output_type": "stream",
          "name": "stdout",
          "text": [
            "Mounted at /content/drive\n"
          ]
        }
      ],
      "source": [
        "from google.colab import drive\n",
        "drive.mount('/content/drive')"
      ]
    },
    {
      "cell_type": "code",
      "source": [
        "!pip install catboost"
      ],
      "metadata": {
        "colab": {
          "base_uri": "https://localhost:8080/"
        },
        "id": "u_RmK63MjRXa",
        "outputId": "213f5336-5802-4a89-bf82-20436cd549c4"
      },
      "execution_count": 2,
      "outputs": [
        {
          "output_type": "stream",
          "name": "stdout",
          "text": [
            "Collecting catboost\n",
            "  Downloading catboost-1.2.5-cp310-cp310-manylinux2014_x86_64.whl.metadata (1.2 kB)\n",
            "Requirement already satisfied: graphviz in /usr/local/lib/python3.10/dist-packages (from catboost) (0.20.3)\n",
            "Requirement already satisfied: matplotlib in /usr/local/lib/python3.10/dist-packages (from catboost) (3.7.1)\n",
            "Requirement already satisfied: numpy>=1.16.0 in /usr/local/lib/python3.10/dist-packages (from catboost) (1.26.4)\n",
            "Requirement already satisfied: pandas>=0.24 in /usr/local/lib/python3.10/dist-packages (from catboost) (2.1.4)\n",
            "Requirement already satisfied: scipy in /usr/local/lib/python3.10/dist-packages (from catboost) (1.13.1)\n",
            "Requirement already satisfied: plotly in /usr/local/lib/python3.10/dist-packages (from catboost) (5.15.0)\n",
            "Requirement already satisfied: six in /usr/local/lib/python3.10/dist-packages (from catboost) (1.16.0)\n",
            "Requirement already satisfied: python-dateutil>=2.8.2 in /usr/local/lib/python3.10/dist-packages (from pandas>=0.24->catboost) (2.8.2)\n",
            "Requirement already satisfied: pytz>=2020.1 in /usr/local/lib/python3.10/dist-packages (from pandas>=0.24->catboost) (2024.1)\n",
            "Requirement already satisfied: tzdata>=2022.1 in /usr/local/lib/python3.10/dist-packages (from pandas>=0.24->catboost) (2024.1)\n",
            "Requirement already satisfied: contourpy>=1.0.1 in /usr/local/lib/python3.10/dist-packages (from matplotlib->catboost) (1.2.1)\n",
            "Requirement already satisfied: cycler>=0.10 in /usr/local/lib/python3.10/dist-packages (from matplotlib->catboost) (0.12.1)\n",
            "Requirement already satisfied: fonttools>=4.22.0 in /usr/local/lib/python3.10/dist-packages (from matplotlib->catboost) (4.53.1)\n",
            "Requirement already satisfied: kiwisolver>=1.0.1 in /usr/local/lib/python3.10/dist-packages (from matplotlib->catboost) (1.4.5)\n",
            "Requirement already satisfied: packaging>=20.0 in /usr/local/lib/python3.10/dist-packages (from matplotlib->catboost) (24.1)\n",
            "Requirement already satisfied: pillow>=6.2.0 in /usr/local/lib/python3.10/dist-packages (from matplotlib->catboost) (9.4.0)\n",
            "Requirement already satisfied: pyparsing>=2.3.1 in /usr/local/lib/python3.10/dist-packages (from matplotlib->catboost) (3.1.2)\n",
            "Requirement already satisfied: tenacity>=6.2.0 in /usr/local/lib/python3.10/dist-packages (from plotly->catboost) (9.0.0)\n",
            "Downloading catboost-1.2.5-cp310-cp310-manylinux2014_x86_64.whl (98.2 MB)\n",
            "\u001b[2K   \u001b[90m━━━━━━━━━━━━━━━━━━━━━━━━━━━━━━━━━━━━━━━━\u001b[0m \u001b[32m98.2/98.2 MB\u001b[0m \u001b[31m7.2 MB/s\u001b[0m eta \u001b[36m0:00:00\u001b[0m\n",
            "\u001b[?25hInstalling collected packages: catboost\n",
            "Successfully installed catboost-1.2.5\n"
          ]
        }
      ]
    },
    {
      "cell_type": "code",
      "source": [
        "import pandas as pd\n",
        "import numpy as np\n",
        "import matplotlib.pyplot as plt\n",
        "import seaborn as sns\n",
        "import warnings\n",
        "import re\n",
        "import lightgbm as lgb\n",
        "from sklearn import metrics\n",
        "from sklearn.metrics import f1_score, roc_auc_score\n",
        "from sklearn.model_selection import StratifiedKFold\n",
        "\n",
        "import xgboost as xgb\n",
        "from xgboost import XGBClassifier\n",
        "\n",
        "\n",
        "from sklearn.calibration import calibration_curve, CalibratedClassifierCV\n",
        "from sklearn.metrics import roc_auc_score\n",
        "from catboost import CatBoostClassifier, Pool\n",
        "from sklearn.isotonic import IsotonicRegression\n",
        "\n",
        "\n",
        "# warningsを非表示にする\n",
        "warnings.filterwarnings(\"ignore\")"
      ],
      "metadata": {
        "id": "GPtf2SeBzV9X"
      },
      "execution_count": 60,
      "outputs": []
    },
    {
      "cell_type": "code",
      "source": [
        "df_train = pd.read_csv(\"/content/drive/MyDrive/Signate/2024summer/fdata/df_train_allnum.csv\")\n",
        "df_test = pd.read_csv(\"/content/drive/MyDrive/Signate/2024summer/fdata/df_test_allnum.csv\")\n",
        "ss = pd.read_csv(\"/content/drive/MyDrive/Signate/2024summer/data/sample_submit.csv\", header=None)"
      ],
      "metadata": {
        "id": "2FTiglD3zYMY"
      },
      "execution_count": 84,
      "outputs": []
    },
    {
      "cell_type": "code",
      "source": [
        "train_y = df_train[target]\n",
        "train_x = df_train.drop(target, axis=1)"
      ],
      "metadata": {
        "id": "jTC1POkYyV0B"
      },
      "execution_count": 85,
      "outputs": []
    },
    {
      "cell_type": "code",
      "source": [
        "test_x = df_test\n",
        "test_x = test_x.drop(target, axis=1)"
      ],
      "metadata": {
        "id": "hljP6qCBzzBU"
      },
      "execution_count": 86,
      "outputs": []
    },
    {
      "cell_type": "code",
      "source": [
        "test_x.head()"
      ],
      "metadata": {
        "colab": {
          "base_uri": "https://localhost:8080/",
          "height": 273
        },
        "id": "DGxFU_lZ_NBs",
        "outputId": "62c87d8a-e28a-4357-e255-bbbea3813650"
      },
      "execution_count": 91,
      "outputs": [
        {
          "output_type": "execute_result",
          "data": {
            "text/plain": [
              "     id       Age  TypeofContact  DurationOfPitch  Gender  \\\n",
              "0  3489  0.938701              1        -0.212100       0   \n",
              "1  3490 -0.922728              1        -0.356740       1   \n",
              "2  3491 -1.439792              1        -0.790661       1   \n",
              "3  3492 -1.853443              0        -1.079941       0   \n",
              "4  3493  0.214812              0        -1.079941       0   \n",
              "\n",
              "   NumberOfPersonVisiting  NumberOfFollowups  NumberOfTrips  Passport  \\\n",
              "0               -1.908669           0.361786       2.196148         0   \n",
              "1               -1.908669           0.361786       0.459028         1   \n",
              "2               -1.908669           0.361786      -1.278092         0   \n",
              "3               -1.908669           0.361786      -1.278092         0   \n",
              "4               -1.908669           0.361786      -1.278092         0   \n",
              "\n",
              "   MonthlyIncome  ...  PitchSatisfactionScore_5  Designation_AVP  \\\n",
              "0       1.863454  ...                       0.0              1.0   \n",
              "1      -0.742793  ...                       0.0              0.0   \n",
              "2      -1.272115  ...                       0.0              0.0   \n",
              "3      -1.273769  ...                       0.0              0.0   \n",
              "4      -1.155267  ...                       0.0              0.0   \n",
              "\n",
              "   Designation_Executive  Designation_Manager  Designation_Senior Manager  \\\n",
              "0                    0.0                  0.0                         0.0   \n",
              "1                    0.0                  0.0                         1.0   \n",
              "2                    1.0                  0.0                         0.0   \n",
              "3                    0.0                  0.0                         1.0   \n",
              "4                    1.0                  0.0                         0.0   \n",
              "\n",
              "   Designation_VP  MaritalStatus_未婚  MaritalStatus_独身  MaritalStatus_結婚  \\\n",
              "0             0.0               0.0               0.0               1.0   \n",
              "1             0.0               0.0               0.0               1.0   \n",
              "2             0.0               0.0               0.0               0.0   \n",
              "3             0.0               0.0               0.0               0.0   \n",
              "4             0.0               0.0               1.0               0.0   \n",
              "\n",
              "   MaritalStatus_離婚  \n",
              "0               0.0  \n",
              "1               0.0  \n",
              "2               1.0  \n",
              "3               1.0  \n",
              "4               0.0  \n",
              "\n",
              "[5 rows x 41 columns]"
            ],
            "text/html": [
              "\n",
              "  <div id=\"df-7bed1f83-c541-49fd-a8bd-53386c903e9b\" class=\"colab-df-container\">\n",
              "    <div>\n",
              "<style scoped>\n",
              "    .dataframe tbody tr th:only-of-type {\n",
              "        vertical-align: middle;\n",
              "    }\n",
              "\n",
              "    .dataframe tbody tr th {\n",
              "        vertical-align: top;\n",
              "    }\n",
              "\n",
              "    .dataframe thead th {\n",
              "        text-align: right;\n",
              "    }\n",
              "</style>\n",
              "<table border=\"1\" class=\"dataframe\">\n",
              "  <thead>\n",
              "    <tr style=\"text-align: right;\">\n",
              "      <th></th>\n",
              "      <th>id</th>\n",
              "      <th>Age</th>\n",
              "      <th>TypeofContact</th>\n",
              "      <th>DurationOfPitch</th>\n",
              "      <th>Gender</th>\n",
              "      <th>NumberOfPersonVisiting</th>\n",
              "      <th>NumberOfFollowups</th>\n",
              "      <th>NumberOfTrips</th>\n",
              "      <th>Passport</th>\n",
              "      <th>MonthlyIncome</th>\n",
              "      <th>...</th>\n",
              "      <th>PitchSatisfactionScore_5</th>\n",
              "      <th>Designation_AVP</th>\n",
              "      <th>Designation_Executive</th>\n",
              "      <th>Designation_Manager</th>\n",
              "      <th>Designation_Senior Manager</th>\n",
              "      <th>Designation_VP</th>\n",
              "      <th>MaritalStatus_未婚</th>\n",
              "      <th>MaritalStatus_独身</th>\n",
              "      <th>MaritalStatus_結婚</th>\n",
              "      <th>MaritalStatus_離婚</th>\n",
              "    </tr>\n",
              "  </thead>\n",
              "  <tbody>\n",
              "    <tr>\n",
              "      <th>0</th>\n",
              "      <td>3489</td>\n",
              "      <td>0.938701</td>\n",
              "      <td>1</td>\n",
              "      <td>-0.212100</td>\n",
              "      <td>0</td>\n",
              "      <td>-1.908669</td>\n",
              "      <td>0.361786</td>\n",
              "      <td>2.196148</td>\n",
              "      <td>0</td>\n",
              "      <td>1.863454</td>\n",
              "      <td>...</td>\n",
              "      <td>0.0</td>\n",
              "      <td>1.0</td>\n",
              "      <td>0.0</td>\n",
              "      <td>0.0</td>\n",
              "      <td>0.0</td>\n",
              "      <td>0.0</td>\n",
              "      <td>0.0</td>\n",
              "      <td>0.0</td>\n",
              "      <td>1.0</td>\n",
              "      <td>0.0</td>\n",
              "    </tr>\n",
              "    <tr>\n",
              "      <th>1</th>\n",
              "      <td>3490</td>\n",
              "      <td>-0.922728</td>\n",
              "      <td>1</td>\n",
              "      <td>-0.356740</td>\n",
              "      <td>1</td>\n",
              "      <td>-1.908669</td>\n",
              "      <td>0.361786</td>\n",
              "      <td>0.459028</td>\n",
              "      <td>1</td>\n",
              "      <td>-0.742793</td>\n",
              "      <td>...</td>\n",
              "      <td>0.0</td>\n",
              "      <td>0.0</td>\n",
              "      <td>0.0</td>\n",
              "      <td>0.0</td>\n",
              "      <td>1.0</td>\n",
              "      <td>0.0</td>\n",
              "      <td>0.0</td>\n",
              "      <td>0.0</td>\n",
              "      <td>1.0</td>\n",
              "      <td>0.0</td>\n",
              "    </tr>\n",
              "    <tr>\n",
              "      <th>2</th>\n",
              "      <td>3491</td>\n",
              "      <td>-1.439792</td>\n",
              "      <td>1</td>\n",
              "      <td>-0.790661</td>\n",
              "      <td>1</td>\n",
              "      <td>-1.908669</td>\n",
              "      <td>0.361786</td>\n",
              "      <td>-1.278092</td>\n",
              "      <td>0</td>\n",
              "      <td>-1.272115</td>\n",
              "      <td>...</td>\n",
              "      <td>0.0</td>\n",
              "      <td>0.0</td>\n",
              "      <td>1.0</td>\n",
              "      <td>0.0</td>\n",
              "      <td>0.0</td>\n",
              "      <td>0.0</td>\n",
              "      <td>0.0</td>\n",
              "      <td>0.0</td>\n",
              "      <td>0.0</td>\n",
              "      <td>1.0</td>\n",
              "    </tr>\n",
              "    <tr>\n",
              "      <th>3</th>\n",
              "      <td>3492</td>\n",
              "      <td>-1.853443</td>\n",
              "      <td>0</td>\n",
              "      <td>-1.079941</td>\n",
              "      <td>0</td>\n",
              "      <td>-1.908669</td>\n",
              "      <td>0.361786</td>\n",
              "      <td>-1.278092</td>\n",
              "      <td>0</td>\n",
              "      <td>-1.273769</td>\n",
              "      <td>...</td>\n",
              "      <td>0.0</td>\n",
              "      <td>0.0</td>\n",
              "      <td>0.0</td>\n",
              "      <td>0.0</td>\n",
              "      <td>1.0</td>\n",
              "      <td>0.0</td>\n",
              "      <td>0.0</td>\n",
              "      <td>0.0</td>\n",
              "      <td>0.0</td>\n",
              "      <td>1.0</td>\n",
              "    </tr>\n",
              "    <tr>\n",
              "      <th>4</th>\n",
              "      <td>3493</td>\n",
              "      <td>0.214812</td>\n",
              "      <td>0</td>\n",
              "      <td>-1.079941</td>\n",
              "      <td>0</td>\n",
              "      <td>-1.908669</td>\n",
              "      <td>0.361786</td>\n",
              "      <td>-1.278092</td>\n",
              "      <td>0</td>\n",
              "      <td>-1.155267</td>\n",
              "      <td>...</td>\n",
              "      <td>0.0</td>\n",
              "      <td>0.0</td>\n",
              "      <td>1.0</td>\n",
              "      <td>0.0</td>\n",
              "      <td>0.0</td>\n",
              "      <td>0.0</td>\n",
              "      <td>0.0</td>\n",
              "      <td>1.0</td>\n",
              "      <td>0.0</td>\n",
              "      <td>0.0</td>\n",
              "    </tr>\n",
              "  </tbody>\n",
              "</table>\n",
              "<p>5 rows × 41 columns</p>\n",
              "</div>\n",
              "    <div class=\"colab-df-buttons\">\n",
              "\n",
              "  <div class=\"colab-df-container\">\n",
              "    <button class=\"colab-df-convert\" onclick=\"convertToInteractive('df-7bed1f83-c541-49fd-a8bd-53386c903e9b')\"\n",
              "            title=\"Convert this dataframe to an interactive table.\"\n",
              "            style=\"display:none;\">\n",
              "\n",
              "  <svg xmlns=\"http://www.w3.org/2000/svg\" height=\"24px\" viewBox=\"0 -960 960 960\">\n",
              "    <path d=\"M120-120v-720h720v720H120Zm60-500h600v-160H180v160Zm220 220h160v-160H400v160Zm0 220h160v-160H400v160ZM180-400h160v-160H180v160Zm440 0h160v-160H620v160ZM180-180h160v-160H180v160Zm440 0h160v-160H620v160Z\"/>\n",
              "  </svg>\n",
              "    </button>\n",
              "\n",
              "  <style>\n",
              "    .colab-df-container {\n",
              "      display:flex;\n",
              "      gap: 12px;\n",
              "    }\n",
              "\n",
              "    .colab-df-convert {\n",
              "      background-color: #E8F0FE;\n",
              "      border: none;\n",
              "      border-radius: 50%;\n",
              "      cursor: pointer;\n",
              "      display: none;\n",
              "      fill: #1967D2;\n",
              "      height: 32px;\n",
              "      padding: 0 0 0 0;\n",
              "      width: 32px;\n",
              "    }\n",
              "\n",
              "    .colab-df-convert:hover {\n",
              "      background-color: #E2EBFA;\n",
              "      box-shadow: 0px 1px 2px rgba(60, 64, 67, 0.3), 0px 1px 3px 1px rgba(60, 64, 67, 0.15);\n",
              "      fill: #174EA6;\n",
              "    }\n",
              "\n",
              "    .colab-df-buttons div {\n",
              "      margin-bottom: 4px;\n",
              "    }\n",
              "\n",
              "    [theme=dark] .colab-df-convert {\n",
              "      background-color: #3B4455;\n",
              "      fill: #D2E3FC;\n",
              "    }\n",
              "\n",
              "    [theme=dark] .colab-df-convert:hover {\n",
              "      background-color: #434B5C;\n",
              "      box-shadow: 0px 1px 3px 1px rgba(0, 0, 0, 0.15);\n",
              "      filter: drop-shadow(0px 1px 2px rgba(0, 0, 0, 0.3));\n",
              "      fill: #FFFFFF;\n",
              "    }\n",
              "  </style>\n",
              "\n",
              "    <script>\n",
              "      const buttonEl =\n",
              "        document.querySelector('#df-7bed1f83-c541-49fd-a8bd-53386c903e9b button.colab-df-convert');\n",
              "      buttonEl.style.display =\n",
              "        google.colab.kernel.accessAllowed ? 'block' : 'none';\n",
              "\n",
              "      async function convertToInteractive(key) {\n",
              "        const element = document.querySelector('#df-7bed1f83-c541-49fd-a8bd-53386c903e9b');\n",
              "        const dataTable =\n",
              "          await google.colab.kernel.invokeFunction('convertToInteractive',\n",
              "                                                    [key], {});\n",
              "        if (!dataTable) return;\n",
              "\n",
              "        const docLinkHtml = 'Like what you see? Visit the ' +\n",
              "          '<a target=\"_blank\" href=https://colab.research.google.com/notebooks/data_table.ipynb>data table notebook</a>'\n",
              "          + ' to learn more about interactive tables.';\n",
              "        element.innerHTML = '';\n",
              "        dataTable['output_type'] = 'display_data';\n",
              "        await google.colab.output.renderOutput(dataTable, element);\n",
              "        const docLink = document.createElement('div');\n",
              "        docLink.innerHTML = docLinkHtml;\n",
              "        element.appendChild(docLink);\n",
              "      }\n",
              "    </script>\n",
              "  </div>\n",
              "\n",
              "\n",
              "<div id=\"df-6d023fe9-ae72-482d-bb2e-df130ce6ba59\">\n",
              "  <button class=\"colab-df-quickchart\" onclick=\"quickchart('df-6d023fe9-ae72-482d-bb2e-df130ce6ba59')\"\n",
              "            title=\"Suggest charts\"\n",
              "            style=\"display:none;\">\n",
              "\n",
              "<svg xmlns=\"http://www.w3.org/2000/svg\" height=\"24px\"viewBox=\"0 0 24 24\"\n",
              "     width=\"24px\">\n",
              "    <g>\n",
              "        <path d=\"M19 3H5c-1.1 0-2 .9-2 2v14c0 1.1.9 2 2 2h14c1.1 0 2-.9 2-2V5c0-1.1-.9-2-2-2zM9 17H7v-7h2v7zm4 0h-2V7h2v10zm4 0h-2v-4h2v4z\"/>\n",
              "    </g>\n",
              "</svg>\n",
              "  </button>\n",
              "\n",
              "<style>\n",
              "  .colab-df-quickchart {\n",
              "      --bg-color: #E8F0FE;\n",
              "      --fill-color: #1967D2;\n",
              "      --hover-bg-color: #E2EBFA;\n",
              "      --hover-fill-color: #174EA6;\n",
              "      --disabled-fill-color: #AAA;\n",
              "      --disabled-bg-color: #DDD;\n",
              "  }\n",
              "\n",
              "  [theme=dark] .colab-df-quickchart {\n",
              "      --bg-color: #3B4455;\n",
              "      --fill-color: #D2E3FC;\n",
              "      --hover-bg-color: #434B5C;\n",
              "      --hover-fill-color: #FFFFFF;\n",
              "      --disabled-bg-color: #3B4455;\n",
              "      --disabled-fill-color: #666;\n",
              "  }\n",
              "\n",
              "  .colab-df-quickchart {\n",
              "    background-color: var(--bg-color);\n",
              "    border: none;\n",
              "    border-radius: 50%;\n",
              "    cursor: pointer;\n",
              "    display: none;\n",
              "    fill: var(--fill-color);\n",
              "    height: 32px;\n",
              "    padding: 0;\n",
              "    width: 32px;\n",
              "  }\n",
              "\n",
              "  .colab-df-quickchart:hover {\n",
              "    background-color: var(--hover-bg-color);\n",
              "    box-shadow: 0 1px 2px rgba(60, 64, 67, 0.3), 0 1px 3px 1px rgba(60, 64, 67, 0.15);\n",
              "    fill: var(--button-hover-fill-color);\n",
              "  }\n",
              "\n",
              "  .colab-df-quickchart-complete:disabled,\n",
              "  .colab-df-quickchart-complete:disabled:hover {\n",
              "    background-color: var(--disabled-bg-color);\n",
              "    fill: var(--disabled-fill-color);\n",
              "    box-shadow: none;\n",
              "  }\n",
              "\n",
              "  .colab-df-spinner {\n",
              "    border: 2px solid var(--fill-color);\n",
              "    border-color: transparent;\n",
              "    border-bottom-color: var(--fill-color);\n",
              "    animation:\n",
              "      spin 1s steps(1) infinite;\n",
              "  }\n",
              "\n",
              "  @keyframes spin {\n",
              "    0% {\n",
              "      border-color: transparent;\n",
              "      border-bottom-color: var(--fill-color);\n",
              "      border-left-color: var(--fill-color);\n",
              "    }\n",
              "    20% {\n",
              "      border-color: transparent;\n",
              "      border-left-color: var(--fill-color);\n",
              "      border-top-color: var(--fill-color);\n",
              "    }\n",
              "    30% {\n",
              "      border-color: transparent;\n",
              "      border-left-color: var(--fill-color);\n",
              "      border-top-color: var(--fill-color);\n",
              "      border-right-color: var(--fill-color);\n",
              "    }\n",
              "    40% {\n",
              "      border-color: transparent;\n",
              "      border-right-color: var(--fill-color);\n",
              "      border-top-color: var(--fill-color);\n",
              "    }\n",
              "    60% {\n",
              "      border-color: transparent;\n",
              "      border-right-color: var(--fill-color);\n",
              "    }\n",
              "    80% {\n",
              "      border-color: transparent;\n",
              "      border-right-color: var(--fill-color);\n",
              "      border-bottom-color: var(--fill-color);\n",
              "    }\n",
              "    90% {\n",
              "      border-color: transparent;\n",
              "      border-bottom-color: var(--fill-color);\n",
              "    }\n",
              "  }\n",
              "</style>\n",
              "\n",
              "  <script>\n",
              "    async function quickchart(key) {\n",
              "      const quickchartButtonEl =\n",
              "        document.querySelector('#' + key + ' button');\n",
              "      quickchartButtonEl.disabled = true;  // To prevent multiple clicks.\n",
              "      quickchartButtonEl.classList.add('colab-df-spinner');\n",
              "      try {\n",
              "        const charts = await google.colab.kernel.invokeFunction(\n",
              "            'suggestCharts', [key], {});\n",
              "      } catch (error) {\n",
              "        console.error('Error during call to suggestCharts:', error);\n",
              "      }\n",
              "      quickchartButtonEl.classList.remove('colab-df-spinner');\n",
              "      quickchartButtonEl.classList.add('colab-df-quickchart-complete');\n",
              "    }\n",
              "    (() => {\n",
              "      let quickchartButtonEl =\n",
              "        document.querySelector('#df-6d023fe9-ae72-482d-bb2e-df130ce6ba59 button');\n",
              "      quickchartButtonEl.style.display =\n",
              "        google.colab.kernel.accessAllowed ? 'block' : 'none';\n",
              "    })();\n",
              "  </script>\n",
              "</div>\n",
              "\n",
              "    </div>\n",
              "  </div>\n"
            ],
            "application/vnd.google.colaboratory.intrinsic+json": {
              "type": "dataframe",
              "variable_name": "test_x"
            }
          },
          "metadata": {},
          "execution_count": 91
        }
      ]
    },
    {
      "cell_type": "markdown",
      "source": [
        "# モデル\n"
      ],
      "metadata": {
        "id": "jgjYKucvdM4Q"
      }
    },
    {
      "cell_type": "code",
      "source": [
        "params_lgb = {\n",
        "    \"n_estimators\": 3000,\n",
        "    \"learning_rate\": 0.01,\n",
        "    \"colsample_bytree\": 0.8,\n",
        "    \"subsample_freq\": 1,\n",
        "    \"subsample\": 0.8,\n",
        "    \"random_seed\": 0,\n",
        "}"
      ],
      "metadata": {
        "id": "iFQCp38z3JpH"
      },
      "execution_count": 87,
      "outputs": []
    },
    {
      "cell_type": "code",
      "source": [
        "params_cat = {\n",
        "    \"iterations\": 3000,  # n_estimatorsに相当\n",
        "    \"learning_rate\": 0.01,\n",
        "    \"colsample_bylevel\": 0.8,  # colsample_bytreeに相当\n",
        "    \"random_seed\": 0,\n",
        "    \"verbose\": 100,  # 学習の進捗を100回毎に表示\n",
        "    \"use_best_model\": True,  # 早期停止のための設定\n",
        "}"
      ],
      "metadata": {
        "id": "QWPGZD9WFfzL"
      },
      "execution_count": 88,
      "outputs": []
    },
    {
      "cell_type": "code",
      "source": [
        "params_xgb = {\n",
        "    \"n_estimators\": 3000,\n",
        "    \"learning_rate\": 0.01,\n",
        "    \"colsample_bytree\": 0.8,\n",
        "    \"subsample\": 0.8,\n",
        "    \"early_stopping_rounds\": 100,\n",
        "    \"random_state\": 0,\n",
        "}"
      ],
      "metadata": {
        "id": "jv71t_Ba5_e2"
      },
      "execution_count": 89,
      "outputs": []
    },
    {
      "cell_type": "code",
      "source": [
        "base_models = {\n",
        "    'LightGBM': lgb.LGBMClassifier(**params_lgb),\n",
        "    'CatBoost': CatBoostClassifier(**params_cat, early_stopping_rounds=100),\n",
        "    'XGBoost': XGBClassifier(**params_xgb)\n",
        "}"
      ],
      "metadata": {
        "id": "k9EDAzZ4e30L"
      },
      "execution_count": 90,
      "outputs": []
    },
    {
      "cell_type": "markdown",
      "source": [],
      "metadata": {
        "id": "WIeiX2sDe26c"
      }
    },
    {
      "cell_type": "code",
      "source": [
        "#def train_base_models(X, y, models, cols_category, n_splits=5):\n",
        "def train_base_models(X, y, models, n_splits=5):\n",
        "    meta_features = np.zeros((len(X), len(models)))\n",
        "    oof_predictions = np.zeros(len(X))\n",
        "\n",
        "    cv = StratifiedKFold(n_splits=n_splits, shuffle=True, random_state=)\n",
        "\n",
        "    for i, (model_name, model) in enumerate(models.items()):\n",
        "        print(f\"Training {model_name}...\")\n",
        "        oof_predictions_model = np.zeros(len(X))\n",
        "\n",
        "        for fold, (trn_idx, val_idx) in enumerate(cv.split(X, y), start=1):\n",
        "            trn_x, trn_y = X.iloc[trn_idx], y.iloc[trn_idx]\n",
        "            val_x, val_y = X.iloc[val_idx], y.iloc[val_idx]\n",
        "\n",
        "            if isinstance(model, lgb.LGBMClassifier):\n",
        "                model.fit(\n",
        "                    trn_x, trn_y,\n",
        "                    eval_set=[(val_x, val_y)],\n",
        "                    callbacks=[lgb.early_stopping(100, verbose=False)],\n",
        "                    #categorical_feature=cols_category,\n",
        "                )\n",
        "            elif isinstance(model, CatBoostClassifier):\n",
        "                #train_pool = Pool(data=trn_x, label=trn_y, cat_features=cols_category)\n",
        "                #val_pool = Pool(data=val_x, label=val_y, cat_features=cols_category)\n",
        "                train_pool = Pool(data=trn_x, label=trn_y)\n",
        "                val_pool = Pool(data=val_x, label=val_y)\n",
        "                model.fit(train_pool, eval_set=val_pool, verbose=False)\n",
        "            elif isinstance(model, XGBClassifier):\n",
        "                model.fit(\n",
        "                    trn_x, trn_y,\n",
        "                    eval_set=[(val_x, val_y)],\n",
        "                    verbose=False,\n",
        "                )\n",
        "            else:\n",
        "                model.fit(trn_x, trn_y)\n",
        "\n",
        "            oof_predictions_model[val_idx] = model.predict_proba(val_x)[:, 1]\n",
        "\n",
        "            auc = roc_auc_score(val_y, oof_predictions_model[val_idx])\n",
        "            print(f\"  Fold {fold}, AUC: {auc:.4f}\")\n",
        "\n",
        "        meta_features[:, i] = oof_predictions_model\n",
        "        oof_predictions += oof_predictions_model / len(models)\n",
        "\n",
        "        auc = roc_auc_score(y, oof_predictions_model)\n",
        "        print(f\"{model_name} OOF AUC: {auc:.4f}\")\n",
        "\n",
        "    return meta_features, oof_predictions"
      ],
      "metadata": {
        "id": "i1YSzCrxN7sM"
      },
      "execution_count": 104,
      "outputs": []
    },
    {
      "cell_type": "code",
      "source": [
        "def train_meta_model(meta_features, y, meta_model, n_splits=5):\n",
        "    oof_predictions = np.zeros(len(y))\n",
        "    cv = StratifiedKFold(n_splits=n_splits, shuffle=True, random_state=815)\n",
        "\n",
        "    for fold, (trn_idx, val_idx) in enumerate(cv.split(meta_features, y), start=1):\n",
        "        trn_x, trn_y = meta_features[trn_idx], y.iloc[trn_idx]\n",
        "        val_x, val_y = meta_features[val_idx], y.iloc[val_idx]\n",
        "\n",
        "        meta_model.fit(trn_x, trn_y)\n",
        "        oof_predictions[val_idx] = meta_model.predict_proba(val_x)[:, 1]\n",
        "\n",
        "        auc = roc_auc_score(val_y, oof_predictions[val_idx])\n",
        "        print(f\"Meta Model Fold {fold}, AUC: {auc:.4f}\")\n",
        "\n",
        "    auc = roc_auc_score(y, oof_predictions)\n",
        "    print(f\"Meta Model OOF AUC: {auc:.4f}\")\n",
        "\n",
        "    return oof_predictions"
      ],
      "metadata": {
        "id": "d7hPGtGqnL8i"
      },
      "execution_count": 105,
      "outputs": []
    },
    {
      "cell_type": "code",
      "source": [
        "def stacking_predict(X, base_models, meta_model):\n",
        "    meta_features = np.column_stack([model.predict_proba(X)[:, 1] for _, model in base_models.items()])\n",
        "    return meta_model.predict_proba(meta_features)[:, 1]"
      ],
      "metadata": {
        "id": "NfAqhCaGxfXU"
      },
      "execution_count": 106,
      "outputs": []
    },
    {
      "cell_type": "code",
      "source": [
        "# ベースモデルの学習とメタ特徴量の生成\n",
        "meta_features, oof_predictions_base = train_base_models(train_x, train_y, base_models)\n"
      ],
      "metadata": {
        "colab": {
          "base_uri": "https://localhost:8080/"
        },
        "id": "KAdBEO3lxquO",
        "outputId": "75c4f5d3-6e39-4887-8aa9-b74fb5caa4d9"
      },
      "execution_count": 107,
      "outputs": [
        {
          "output_type": "stream",
          "name": "stdout",
          "text": [
            "Training LightGBM...\n",
            "[LightGBM] [Warning] Found whitespace in feature_names, replace with underlines\n",
            "[LightGBM] [Info] Number of positive: 397, number of negative: 2394\n",
            "[LightGBM] [Info] Auto-choosing row-wise multi-threading, the overhead of testing was 0.000380 seconds.\n",
            "You can set `force_row_wise=true` to remove the overhead.\n",
            "And if memory is not enough, you can set `force_col_wise=true`.\n",
            "[LightGBM] [Info] Total Bins 683\n",
            "[LightGBM] [Info] Number of data points in the train set: 2791, number of used features: 41\n",
            "[LightGBM] [Warning] Found whitespace in feature_names, replace with underlines\n",
            "[LightGBM] [Info] [binary:BoostFromScore]: pavg=0.142243 -> initscore=-1.796785\n",
            "[LightGBM] [Info] Start training from score -1.796785\n",
            "  Fold 1, AUC: 0.8216\n",
            "[LightGBM] [Warning] Found whitespace in feature_names, replace with underlines\n",
            "[LightGBM] [Info] Number of positive: 397, number of negative: 2394\n",
            "[LightGBM] [Info] Auto-choosing row-wise multi-threading, the overhead of testing was 0.000373 seconds.\n",
            "You can set `force_row_wise=true` to remove the overhead.\n",
            "And if memory is not enough, you can set `force_col_wise=true`.\n",
            "[LightGBM] [Info] Total Bins 683\n",
            "[LightGBM] [Info] Number of data points in the train set: 2791, number of used features: 41\n",
            "[LightGBM] [Warning] Found whitespace in feature_names, replace with underlines\n",
            "[LightGBM] [Info] [binary:BoostFromScore]: pavg=0.142243 -> initscore=-1.796785\n",
            "[LightGBM] [Info] Start training from score -1.796785\n",
            "  Fold 2, AUC: 0.8235\n",
            "[LightGBM] [Warning] Found whitespace in feature_names, replace with underlines\n",
            "[LightGBM] [Info] Number of positive: 398, number of negative: 2393\n",
            "[LightGBM] [Info] Auto-choosing row-wise multi-threading, the overhead of testing was 0.000355 seconds.\n",
            "You can set `force_row_wise=true` to remove the overhead.\n",
            "And if memory is not enough, you can set `force_col_wise=true`.\n",
            "[LightGBM] [Info] Total Bins 683\n",
            "[LightGBM] [Info] Number of data points in the train set: 2791, number of used features: 41\n",
            "[LightGBM] [Warning] Found whitespace in feature_names, replace with underlines\n",
            "[LightGBM] [Info] [binary:BoostFromScore]: pavg=0.142601 -> initscore=-1.793851\n",
            "[LightGBM] [Info] Start training from score -1.793851\n",
            "  Fold 3, AUC: 0.8487\n",
            "[LightGBM] [Warning] Found whitespace in feature_names, replace with underlines\n",
            "[LightGBM] [Info] Number of positive: 398, number of negative: 2393\n",
            "[LightGBM] [Info] Auto-choosing row-wise multi-threading, the overhead of testing was 0.000437 seconds.\n",
            "You can set `force_row_wise=true` to remove the overhead.\n",
            "And if memory is not enough, you can set `force_col_wise=true`.\n",
            "[LightGBM] [Info] Total Bins 683\n",
            "[LightGBM] [Info] Number of data points in the train set: 2791, number of used features: 41\n",
            "[LightGBM] [Warning] Found whitespace in feature_names, replace with underlines\n",
            "[LightGBM] [Info] [binary:BoostFromScore]: pavg=0.142601 -> initscore=-1.793851\n",
            "[LightGBM] [Info] Start training from score -1.793851\n",
            "  Fold 4, AUC: 0.8334\n",
            "[LightGBM] [Warning] Found whitespace in feature_names, replace with underlines\n",
            "[LightGBM] [Info] Number of positive: 398, number of negative: 2394\n",
            "[LightGBM] [Info] Auto-choosing row-wise multi-threading, the overhead of testing was 0.000485 seconds.\n",
            "You can set `force_row_wise=true` to remove the overhead.\n",
            "And if memory is not enough, you can set `force_col_wise=true`.\n",
            "[LightGBM] [Info] Total Bins 683\n",
            "[LightGBM] [Info] Number of data points in the train set: 2792, number of used features: 41\n",
            "[LightGBM] [Warning] Found whitespace in feature_names, replace with underlines\n",
            "[LightGBM] [Info] [binary:BoostFromScore]: pavg=0.142550 -> initscore=-1.794269\n",
            "[LightGBM] [Info] Start training from score -1.794269\n",
            "  Fold 5, AUC: 0.8378\n",
            "LightGBM OOF AUC: 0.8312\n",
            "Training CatBoost...\n",
            "  Fold 1, AUC: 0.8160\n",
            "  Fold 2, AUC: 0.8298\n",
            "  Fold 3, AUC: 0.8556\n",
            "  Fold 4, AUC: 0.8452\n",
            "  Fold 5, AUC: 0.8468\n",
            "CatBoost OOF AUC: 0.8368\n",
            "Training XGBoost...\n",
            "  Fold 1, AUC: 0.8146\n",
            "  Fold 2, AUC: 0.8188\n",
            "  Fold 3, AUC: 0.8473\n",
            "  Fold 4, AUC: 0.8344\n",
            "  Fold 5, AUC: 0.8380\n",
            "XGBoost OOF AUC: 0.8287\n"
          ]
        }
      ]
    },
    {
      "cell_type": "code",
      "source": [
        "meta_features"
      ],
      "metadata": {
        "colab": {
          "base_uri": "https://localhost:8080/"
        },
        "id": "ayhhjDW5zRhl",
        "outputId": "08604592-0654-46d5-b989-5e009437f775"
      },
      "execution_count": 96,
      "outputs": [
        {
          "output_type": "execute_result",
          "data": {
            "text/plain": [
              "array([[0.74960532, 0.80590773, 0.76238215],\n",
              "       [0.13154333, 0.13122678, 0.13168739],\n",
              "       [0.18607262, 0.20921726, 0.17927241],\n",
              "       ...,\n",
              "       [0.04767918, 0.04328016, 0.04015868],\n",
              "       [0.16035798, 0.20988039, 0.13757175],\n",
              "       [0.05371685, 0.07459175, 0.07032096]])"
            ]
          },
          "metadata": {},
          "execution_count": 96
        }
      ]
    },
    {
      "cell_type": "code",
      "source": [
        "meta_features"
      ],
      "metadata": {
        "id": "0bJ7T3qOAhLt",
        "outputId": "99fa68f5-33b0-4c34-8756-2b3e779d1e32",
        "colab": {
          "base_uri": "https://localhost:8080/"
        }
      },
      "execution_count": 108,
      "outputs": [
        {
          "output_type": "execute_result",
          "data": {
            "text/plain": [
              "array([[0.737759  , 0.77190878, 0.73978013],\n",
              "       [0.12077513, 0.09404334, 0.13856313],\n",
              "       [0.27930963, 0.25547616, 0.26145357],\n",
              "       ...,\n",
              "       [0.04552659, 0.0521905 , 0.04793171],\n",
              "       [0.19331348, 0.18847833, 0.17051966],\n",
              "       [0.06632617, 0.08691898, 0.07525136]])"
            ]
          },
          "metadata": {},
          "execution_count": 108
        }
      ]
    },
    {
      "cell_type": "code",
      "source": [
        "params_logistic = {\n",
        "    \"penalty\": 'l2',             # L2正則化\n",
        "    \"C\": 1.0,                    # 正則化の強さ\n",
        "    \"solver\": 'lbfgs',           # 最適化アルゴリズム\n",
        "    \"max_iter\": 100,             # 最大反復回数\n",
        "    #\"class_weight\":'balanced',    # クラスの重みづけ\n",
        "    \"random_state\": 1506            # 乱数シード\n",
        "}"
      ],
      "metadata": {
        "id": "RkQvm6CI4IdB"
      },
      "execution_count": 124,
      "outputs": []
    },
    {
      "cell_type": "code",
      "source": [
        "# メタモデルの定義と学習\n",
        "from sklearn.linear_model import LogisticRegression\n",
        "meta_model = LogisticRegression(**params_logistic)\n",
        "oof_predictions_meta = train_meta_model(meta_features, train_y, meta_model)\n"
      ],
      "metadata": {
        "id": "GO2DZ1ZGj5kc",
        "colab": {
          "base_uri": "https://localhost:8080/"
        },
        "outputId": "de9a0c3a-10a9-40bb-ce45-f9ecb6528968"
      },
      "execution_count": 125,
      "outputs": [
        {
          "output_type": "stream",
          "name": "stdout",
          "text": [
            "Meta Model Fold 1, AUC: 0.8169\n",
            "Meta Model Fold 2, AUC: 0.8423\n",
            "Meta Model Fold 3, AUC: 0.8458\n",
            "Meta Model Fold 4, AUC: 0.8068\n",
            "Meta Model Fold 5, AUC: 0.8668\n",
            "Meta Model OOF AUC: 0.8345\n"
          ]
        }
      ]
    },
    {
      "cell_type": "markdown",
      "source": [
        "Meta Model Fold 1, AUC: 0.8172\n",
        "Meta Model Fold 2, AUC: 0.8446\n",
        "Meta Model Fold 3, AUC: 0.8359\n",
        "Meta Model Fold 4, AUC: 0.8211\n",
        "Meta Model Fold 5, AUC: 0.8641\n",
        "Meta Model OOF AUC: 0.8356"
      ],
      "metadata": {
        "id": "sJvKxJJZAkP1"
      }
    },
    {
      "cell_type": "code",
      "source": [
        "final_auc = roc_auc_score(train_y, oof_predictions_meta)\n",
        "print(f\"Final Stacking Model OOF AUC: {final_auc:.8f}\")"
      ],
      "metadata": {
        "colab": {
          "base_uri": "https://localhost:8080/"
        },
        "id": "euDKcTwdlZ6j",
        "outputId": "3fe3616b-7ae2-4dc2-99d5-4fae0b12044d"
      },
      "execution_count": 126,
      "outputs": [
        {
          "output_type": "stream",
          "name": "stdout",
          "text": [
            "Final Stacking Model OOF AUC: 0.83454941\n"
          ]
        }
      ]
    },
    {
      "cell_type": "code",
      "source": [
        "test_predictions = stacking_predict(test_x, base_models, meta_model)"
      ],
      "metadata": {
        "id": "T9jDrRKym7Bi"
      },
      "execution_count": 128,
      "outputs": []
    },
    {
      "cell_type": "code",
      "source": [
        "count = 0"
      ],
      "metadata": {
        "id": "rAXPuukC9TiL"
      },
      "execution_count": 132,
      "outputs": []
    },
    {
      "cell_type": "code",
      "source": [
        "from datetime import datetime\n",
        "import pytz\n",
        "# カウント変数をインクリメント\n",
        "count += 1\n",
        "# 日本時間を取得\n",
        "japan_tz = pytz.timezone('Asia/Tokyo')\n",
        "now = datetime.now(japan_tz)\n",
        "timestamp = now.strftime(\"%Y%m%d_%H%M%S\")\n",
        "\n",
        "file_name = f\"/content/drive/MyDrive/Signate/2024summer/lightcatxgb_en_{timestamp}_{count:03d}.csv\"\n",
        "ss[1] = test_predictions\n",
        "ss.to_csv(file_name, header=False, index=False)"
      ],
      "metadata": {
        "id": "9sPCTUlG9BNO"
      },
      "execution_count": 133,
      "outputs": []
    },
    {
      "cell_type": "code",
      "source": [],
      "metadata": {
        "id": "MloBIyLeAIop"
      },
      "execution_count": null,
      "outputs": []
    },
    {
      "cell_type": "code",
      "source": [],
      "metadata": {
        "id": "Cql4MPkR4e-n"
      },
      "execution_count": null,
      "outputs": []
    },
    {
      "cell_type": "markdown",
      "source": [],
      "metadata": {
        "id": "pTMlgkLqrNkp"
      }
    }
  ]
}