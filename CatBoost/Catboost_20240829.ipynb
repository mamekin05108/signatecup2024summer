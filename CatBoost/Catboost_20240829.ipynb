{
  "nbformat": 4,
  "nbformat_minor": 0,
  "metadata": {
    "colab": {
      "provenance": [],
      "authorship_tag": "ABX9TyO2cUxcIwWSQwWQqSx6LXt6",
      "include_colab_link": true
    },
    "kernelspec": {
      "name": "python3",
      "display_name": "Python 3"
    },
    "language_info": {
      "name": "python"
    }
  },
  "cells": [
    {
      "cell_type": "markdown",
      "metadata": {
        "id": "view-in-github",
        "colab_type": "text"
      },
      "source": [
        "<a href=\"https://colab.research.google.com/github/mamekin05108/signatecup2024summer/blob/main/Catboost_20240829.ipynb\" target=\"_parent\"><img src=\"https://colab.research.google.com/assets/colab-badge.svg\" alt=\"Open In Colab\"/></a>"
      ]
    },
    {
      "cell_type": "code",
      "execution_count": 1,
      "metadata": {
        "colab": {
          "base_uri": "https://localhost:8080/"
        },
        "id": "bvlrPdPg7-h_",
        "outputId": "7de71397-49a5-40e3-aa01-60786fc93b8a"
      },
      "outputs": [
        {
          "output_type": "stream",
          "name": "stdout",
          "text": [
            "Mounted at /content/drive\n"
          ]
        }
      ],
      "source": [
        "from google.colab import drive\n",
        "drive.mount('/content/drive')"
      ]
    },
    {
      "cell_type": "code",
      "source": [
        "import pandas as pd\n",
        "import numpy as np\n",
        "import matplotlib.pyplot as plt\n",
        "import seaborn as sns\n",
        "import warnings\n",
        "import re\n",
        "import copy\n",
        "import lightgbm as lgb\n",
        "from sklearn import metrics\n",
        "from sklearn.metrics import f1_score, roc_auc_score\n",
        "from sklearn.model_selection import StratifiedKFold\n",
        "\n",
        "# warningsを非表示にする\n",
        "warnings.filterwarnings(\"ignore\")"
      ],
      "metadata": {
        "id": "2iIgCK4U8VFz",
        "colab": {
          "base_uri": "https://localhost:8080/"
        },
        "outputId": "5607092f-82cf-4343-fcd6-c9ff683c8be4"
      },
      "execution_count": 2,
      "outputs": [
        {
          "output_type": "stream",
          "name": "stderr",
          "text": [
            "/usr/local/lib/python3.10/dist-packages/dask/dataframe/__init__.py:42: FutureWarning: \n",
            "Dask dataframe query planning is disabled because dask-expr is not installed.\n",
            "\n",
            "You can install it with `pip install dask[dataframe]` or `conda install dask`.\n",
            "This will raise in a future version.\n",
            "\n",
            "  warnings.warn(msg, FutureWarning)\n"
          ]
        }
      ]
    },
    {
      "cell_type": "code",
      "source": [
        "\n",
        "!pip install catboost"
      ],
      "metadata": {
        "colab": {
          "base_uri": "https://localhost:8080/"
        },
        "id": "pvhM-14h-u8v",
        "outputId": "f7981a02-d03a-42bd-a1c1-0497b2869065"
      },
      "execution_count": 3,
      "outputs": [
        {
          "output_type": "stream",
          "name": "stdout",
          "text": [
            "Collecting catboost\n",
            "  Downloading catboost-1.2.5-cp310-cp310-manylinux2014_x86_64.whl.metadata (1.2 kB)\n",
            "Requirement already satisfied: graphviz in /usr/local/lib/python3.10/dist-packages (from catboost) (0.20.3)\n",
            "Requirement already satisfied: matplotlib in /usr/local/lib/python3.10/dist-packages (from catboost) (3.7.1)\n",
            "Requirement already satisfied: numpy>=1.16.0 in /usr/local/lib/python3.10/dist-packages (from catboost) (1.26.4)\n",
            "Requirement already satisfied: pandas>=0.24 in /usr/local/lib/python3.10/dist-packages (from catboost) (2.1.4)\n",
            "Requirement already satisfied: scipy in /usr/local/lib/python3.10/dist-packages (from catboost) (1.13.1)\n",
            "Requirement already satisfied: plotly in /usr/local/lib/python3.10/dist-packages (from catboost) (5.15.0)\n",
            "Requirement already satisfied: six in /usr/local/lib/python3.10/dist-packages (from catboost) (1.16.0)\n",
            "Requirement already satisfied: python-dateutil>=2.8.2 in /usr/local/lib/python3.10/dist-packages (from pandas>=0.24->catboost) (2.8.2)\n",
            "Requirement already satisfied: pytz>=2020.1 in /usr/local/lib/python3.10/dist-packages (from pandas>=0.24->catboost) (2024.1)\n",
            "Requirement already satisfied: tzdata>=2022.1 in /usr/local/lib/python3.10/dist-packages (from pandas>=0.24->catboost) (2024.1)\n",
            "Requirement already satisfied: contourpy>=1.0.1 in /usr/local/lib/python3.10/dist-packages (from matplotlib->catboost) (1.2.1)\n",
            "Requirement already satisfied: cycler>=0.10 in /usr/local/lib/python3.10/dist-packages (from matplotlib->catboost) (0.12.1)\n",
            "Requirement already satisfied: fonttools>=4.22.0 in /usr/local/lib/python3.10/dist-packages (from matplotlib->catboost) (4.53.1)\n",
            "Requirement already satisfied: kiwisolver>=1.0.1 in /usr/local/lib/python3.10/dist-packages (from matplotlib->catboost) (1.4.5)\n",
            "Requirement already satisfied: packaging>=20.0 in /usr/local/lib/python3.10/dist-packages (from matplotlib->catboost) (24.1)\n",
            "Requirement already satisfied: pillow>=6.2.0 in /usr/local/lib/python3.10/dist-packages (from matplotlib->catboost) (9.4.0)\n",
            "Requirement already satisfied: pyparsing>=2.3.1 in /usr/local/lib/python3.10/dist-packages (from matplotlib->catboost) (3.1.4)\n",
            "Requirement already satisfied: tenacity>=6.2.0 in /usr/local/lib/python3.10/dist-packages (from plotly->catboost) (9.0.0)\n",
            "Downloading catboost-1.2.5-cp310-cp310-manylinux2014_x86_64.whl (98.2 MB)\n",
            "\u001b[2K   \u001b[90m━━━━━━━━━━━━━━━━━━━━━━━━━━━━━━━━━━━━━━━━\u001b[0m \u001b[32m98.2/98.2 MB\u001b[0m \u001b[31m8.0 MB/s\u001b[0m eta \u001b[36m0:00:00\u001b[0m\n",
            "\u001b[?25hInstalling collected packages: catboost\n",
            "Successfully installed catboost-1.2.5\n"
          ]
        }
      ]
    },
    {
      "cell_type": "code",
      "source": [
        "pd.set_option('display.max_columns',100)\n",
        "pd.set_option('display.max_rows',100)"
      ],
      "metadata": {
        "id": "Ja5UEEfDHt1j"
      },
      "execution_count": 4,
      "outputs": []
    },
    {
      "cell_type": "code",
      "source": [
        "\n",
        "from sklearn.calibration import calibration_curve, CalibratedClassifierCV\n",
        "from sklearn.metrics import roc_auc_score\n",
        "from catboost import CatBoostClassifier, Pool"
      ],
      "metadata": {
        "id": "oRfT4bm6-0gv"
      },
      "execution_count": 5,
      "outputs": []
    },
    {
      "cell_type": "code",
      "source": [
        "df_train = pd.read_csv(\"/content/drive/MyDrive/Signate/2024summer/fdata/df_trainV8.csv\")\n",
        "df_test = pd.read_csv(\"/content/drive/MyDrive/Signate/2024summer/fdata/df_testV8.csv\")\n",
        "ss = pd.read_csv(\"/content/drive/MyDrive/Signate/2024summer/data/sample_submit.csv\", header=None)"
      ],
      "metadata": {
        "id": "t_Gmoblh8Y3H"
      },
      "execution_count": 19,
      "outputs": []
    },
    {
      "cell_type": "code",
      "source": [
        "df_train.head()"
      ],
      "metadata": {
        "colab": {
          "base_uri": "https://localhost:8080/",
          "height": 226
        },
        "id": "QyPkdV-F_lfh",
        "outputId": "27e5fc02-31fc-4a54-b343-70495230280e"
      },
      "execution_count": 7,
      "outputs": [
        {
          "output_type": "execute_result",
          "data": {
            "text/plain": [
              "     id   Age  TypeofContact  CityTier  DurationOfPitch  Occupation  Gender  \\\n",
              "0  3489  48.0              1         2             13.0           1       0   \n",
              "1  3490  30.0              1         2             12.0           1       1   \n",
              "2  3491  25.0              1         1              9.0           0       1   \n",
              "3  3492  21.0              0         2              7.0           0       0   \n",
              "4  3493  41.0              0         1              7.0           0       0   \n",
              "\n",
              "   NumberOfPersonVisiting  NumberOfFollowups  ProductPitched  \\\n",
              "0                     1.0                4.0               1   \n",
              "1                     1.0                4.0               3   \n",
              "2                     1.0                4.0               4   \n",
              "3                     1.0                4.0               4   \n",
              "4                     1.0                4.0               4   \n",
              "\n",
              "   PreferredPropertyStar  NumberOfTrips  Passport  PitchSatisfactionScore  \\\n",
              "0                    3.0            7.0         0                       3   \n",
              "1                    3.0            4.0         1                       3   \n",
              "2                    3.0            1.0         0                       3   \n",
              "3                    4.0            1.0         0                       3   \n",
              "4                    3.0            1.0         0                       4   \n",
              "\n",
              "   Designation  MonthlyIncome  ProdTaken  MaritalStatus  OwnCar  \\\n",
              "0     1.000000       496950.0        NaN              2       1   \n",
              "1     3.445506       300000.0        NaN              2       0   \n",
              "2     4.000000       260000.0        NaN              3       0   \n",
              "3     4.077367       259875.0        NaN              3       1   \n",
              "4     4.000000       268830.0        NaN              0       1   \n",
              "\n",
              "   NumberOfChildren  HasChildren  IncomePerChild  AnnualIncomePerTrip  \\\n",
              "0               0.0            0    4.969500e+10         8.519131e+05   \n",
              "1               0.0            0    3.000000e+10         8.999978e+05   \n",
              "2               0.0            0    2.600000e+10         3.119969e+06   \n",
              "3               0.0            0    2.598750e+10         3.118469e+06   \n",
              "4               0.0            0    2.688300e+10         3.225928e+06   \n",
              "\n",
              "   PitchPlusFollowups  AdultTravelers  \n",
              "0                21.0             1.0  \n",
              "1                20.0             1.0  \n",
              "2                17.0             1.0  \n",
              "3                15.0             1.0  \n",
              "4                15.0             1.0  "
            ],
            "text/html": [
              "\n",
              "  <div id=\"df-f3963f64-8ea3-4756-9fc9-dc4c4285e915\" class=\"colab-df-container\">\n",
              "    <div>\n",
              "<style scoped>\n",
              "    .dataframe tbody tr th:only-of-type {\n",
              "        vertical-align: middle;\n",
              "    }\n",
              "\n",
              "    .dataframe tbody tr th {\n",
              "        vertical-align: top;\n",
              "    }\n",
              "\n",
              "    .dataframe thead th {\n",
              "        text-align: right;\n",
              "    }\n",
              "</style>\n",
              "<table border=\"1\" class=\"dataframe\">\n",
              "  <thead>\n",
              "    <tr style=\"text-align: right;\">\n",
              "      <th></th>\n",
              "      <th>id</th>\n",
              "      <th>Age</th>\n",
              "      <th>TypeofContact</th>\n",
              "      <th>CityTier</th>\n",
              "      <th>DurationOfPitch</th>\n",
              "      <th>Occupation</th>\n",
              "      <th>Gender</th>\n",
              "      <th>NumberOfPersonVisiting</th>\n",
              "      <th>NumberOfFollowups</th>\n",
              "      <th>ProductPitched</th>\n",
              "      <th>PreferredPropertyStar</th>\n",
              "      <th>NumberOfTrips</th>\n",
              "      <th>Passport</th>\n",
              "      <th>PitchSatisfactionScore</th>\n",
              "      <th>Designation</th>\n",
              "      <th>MonthlyIncome</th>\n",
              "      <th>ProdTaken</th>\n",
              "      <th>MaritalStatus</th>\n",
              "      <th>OwnCar</th>\n",
              "      <th>NumberOfChildren</th>\n",
              "      <th>HasChildren</th>\n",
              "      <th>IncomePerChild</th>\n",
              "      <th>AnnualIncomePerTrip</th>\n",
              "      <th>PitchPlusFollowups</th>\n",
              "      <th>AdultTravelers</th>\n",
              "    </tr>\n",
              "  </thead>\n",
              "  <tbody>\n",
              "    <tr>\n",
              "      <th>0</th>\n",
              "      <td>3489</td>\n",
              "      <td>48.0</td>\n",
              "      <td>1</td>\n",
              "      <td>2</td>\n",
              "      <td>13.0</td>\n",
              "      <td>1</td>\n",
              "      <td>0</td>\n",
              "      <td>1.0</td>\n",
              "      <td>4.0</td>\n",
              "      <td>1</td>\n",
              "      <td>3.0</td>\n",
              "      <td>7.0</td>\n",
              "      <td>0</td>\n",
              "      <td>3</td>\n",
              "      <td>1.000000</td>\n",
              "      <td>496950.0</td>\n",
              "      <td>NaN</td>\n",
              "      <td>2</td>\n",
              "      <td>1</td>\n",
              "      <td>0.0</td>\n",
              "      <td>0</td>\n",
              "      <td>4.969500e+10</td>\n",
              "      <td>8.519131e+05</td>\n",
              "      <td>21.0</td>\n",
              "      <td>1.0</td>\n",
              "    </tr>\n",
              "    <tr>\n",
              "      <th>1</th>\n",
              "      <td>3490</td>\n",
              "      <td>30.0</td>\n",
              "      <td>1</td>\n",
              "      <td>2</td>\n",
              "      <td>12.0</td>\n",
              "      <td>1</td>\n",
              "      <td>1</td>\n",
              "      <td>1.0</td>\n",
              "      <td>4.0</td>\n",
              "      <td>3</td>\n",
              "      <td>3.0</td>\n",
              "      <td>4.0</td>\n",
              "      <td>1</td>\n",
              "      <td>3</td>\n",
              "      <td>3.445506</td>\n",
              "      <td>300000.0</td>\n",
              "      <td>NaN</td>\n",
              "      <td>2</td>\n",
              "      <td>0</td>\n",
              "      <td>0.0</td>\n",
              "      <td>0</td>\n",
              "      <td>3.000000e+10</td>\n",
              "      <td>8.999978e+05</td>\n",
              "      <td>20.0</td>\n",
              "      <td>1.0</td>\n",
              "    </tr>\n",
              "    <tr>\n",
              "      <th>2</th>\n",
              "      <td>3491</td>\n",
              "      <td>25.0</td>\n",
              "      <td>1</td>\n",
              "      <td>1</td>\n",
              "      <td>9.0</td>\n",
              "      <td>0</td>\n",
              "      <td>1</td>\n",
              "      <td>1.0</td>\n",
              "      <td>4.0</td>\n",
              "      <td>4</td>\n",
              "      <td>3.0</td>\n",
              "      <td>1.0</td>\n",
              "      <td>0</td>\n",
              "      <td>3</td>\n",
              "      <td>4.000000</td>\n",
              "      <td>260000.0</td>\n",
              "      <td>NaN</td>\n",
              "      <td>3</td>\n",
              "      <td>0</td>\n",
              "      <td>0.0</td>\n",
              "      <td>0</td>\n",
              "      <td>2.600000e+10</td>\n",
              "      <td>3.119969e+06</td>\n",
              "      <td>17.0</td>\n",
              "      <td>1.0</td>\n",
              "    </tr>\n",
              "    <tr>\n",
              "      <th>3</th>\n",
              "      <td>3492</td>\n",
              "      <td>21.0</td>\n",
              "      <td>0</td>\n",
              "      <td>2</td>\n",
              "      <td>7.0</td>\n",
              "      <td>0</td>\n",
              "      <td>0</td>\n",
              "      <td>1.0</td>\n",
              "      <td>4.0</td>\n",
              "      <td>4</td>\n",
              "      <td>4.0</td>\n",
              "      <td>1.0</td>\n",
              "      <td>0</td>\n",
              "      <td>3</td>\n",
              "      <td>4.077367</td>\n",
              "      <td>259875.0</td>\n",
              "      <td>NaN</td>\n",
              "      <td>3</td>\n",
              "      <td>1</td>\n",
              "      <td>0.0</td>\n",
              "      <td>0</td>\n",
              "      <td>2.598750e+10</td>\n",
              "      <td>3.118469e+06</td>\n",
              "      <td>15.0</td>\n",
              "      <td>1.0</td>\n",
              "    </tr>\n",
              "    <tr>\n",
              "      <th>4</th>\n",
              "      <td>3493</td>\n",
              "      <td>41.0</td>\n",
              "      <td>0</td>\n",
              "      <td>1</td>\n",
              "      <td>7.0</td>\n",
              "      <td>0</td>\n",
              "      <td>0</td>\n",
              "      <td>1.0</td>\n",
              "      <td>4.0</td>\n",
              "      <td>4</td>\n",
              "      <td>3.0</td>\n",
              "      <td>1.0</td>\n",
              "      <td>0</td>\n",
              "      <td>4</td>\n",
              "      <td>4.000000</td>\n",
              "      <td>268830.0</td>\n",
              "      <td>NaN</td>\n",
              "      <td>0</td>\n",
              "      <td>1</td>\n",
              "      <td>0.0</td>\n",
              "      <td>0</td>\n",
              "      <td>2.688300e+10</td>\n",
              "      <td>3.225928e+06</td>\n",
              "      <td>15.0</td>\n",
              "      <td>1.0</td>\n",
              "    </tr>\n",
              "  </tbody>\n",
              "</table>\n",
              "</div>\n",
              "    <div class=\"colab-df-buttons\">\n",
              "\n",
              "  <div class=\"colab-df-container\">\n",
              "    <button class=\"colab-df-convert\" onclick=\"convertToInteractive('df-f3963f64-8ea3-4756-9fc9-dc4c4285e915')\"\n",
              "            title=\"Convert this dataframe to an interactive table.\"\n",
              "            style=\"display:none;\">\n",
              "\n",
              "  <svg xmlns=\"http://www.w3.org/2000/svg\" height=\"24px\" viewBox=\"0 -960 960 960\">\n",
              "    <path d=\"M120-120v-720h720v720H120Zm60-500h600v-160H180v160Zm220 220h160v-160H400v160Zm0 220h160v-160H400v160ZM180-400h160v-160H180v160Zm440 0h160v-160H620v160ZM180-180h160v-160H180v160Zm440 0h160v-160H620v160Z\"/>\n",
              "  </svg>\n",
              "    </button>\n",
              "\n",
              "  <style>\n",
              "    .colab-df-container {\n",
              "      display:flex;\n",
              "      gap: 12px;\n",
              "    }\n",
              "\n",
              "    .colab-df-convert {\n",
              "      background-color: #E8F0FE;\n",
              "      border: none;\n",
              "      border-radius: 50%;\n",
              "      cursor: pointer;\n",
              "      display: none;\n",
              "      fill: #1967D2;\n",
              "      height: 32px;\n",
              "      padding: 0 0 0 0;\n",
              "      width: 32px;\n",
              "    }\n",
              "\n",
              "    .colab-df-convert:hover {\n",
              "      background-color: #E2EBFA;\n",
              "      box-shadow: 0px 1px 2px rgba(60, 64, 67, 0.3), 0px 1px 3px 1px rgba(60, 64, 67, 0.15);\n",
              "      fill: #174EA6;\n",
              "    }\n",
              "\n",
              "    .colab-df-buttons div {\n",
              "      margin-bottom: 4px;\n",
              "    }\n",
              "\n",
              "    [theme=dark] .colab-df-convert {\n",
              "      background-color: #3B4455;\n",
              "      fill: #D2E3FC;\n",
              "    }\n",
              "\n",
              "    [theme=dark] .colab-df-convert:hover {\n",
              "      background-color: #434B5C;\n",
              "      box-shadow: 0px 1px 3px 1px rgba(0, 0, 0, 0.15);\n",
              "      filter: drop-shadow(0px 1px 2px rgba(0, 0, 0, 0.3));\n",
              "      fill: #FFFFFF;\n",
              "    }\n",
              "  </style>\n",
              "\n",
              "    <script>\n",
              "      const buttonEl =\n",
              "        document.querySelector('#df-f3963f64-8ea3-4756-9fc9-dc4c4285e915 button.colab-df-convert');\n",
              "      buttonEl.style.display =\n",
              "        google.colab.kernel.accessAllowed ? 'block' : 'none';\n",
              "\n",
              "      async function convertToInteractive(key) {\n",
              "        const element = document.querySelector('#df-f3963f64-8ea3-4756-9fc9-dc4c4285e915');\n",
              "        const dataTable =\n",
              "          await google.colab.kernel.invokeFunction('convertToInteractive',\n",
              "                                                    [key], {});\n",
              "        if (!dataTable) return;\n",
              "\n",
              "        const docLinkHtml = 'Like what you see? Visit the ' +\n",
              "          '<a target=\"_blank\" href=https://colab.research.google.com/notebooks/data_table.ipynb>data table notebook</a>'\n",
              "          + ' to learn more about interactive tables.';\n",
              "        element.innerHTML = '';\n",
              "        dataTable['output_type'] = 'display_data';\n",
              "        await google.colab.output.renderOutput(dataTable, element);\n",
              "        const docLink = document.createElement('div');\n",
              "        docLink.innerHTML = docLinkHtml;\n",
              "        element.appendChild(docLink);\n",
              "      }\n",
              "    </script>\n",
              "  </div>\n",
              "\n",
              "\n",
              "<div id=\"df-6eef215c-7454-4974-8495-78abb25c9ba6\">\n",
              "  <button class=\"colab-df-quickchart\" onclick=\"quickchart('df-6eef215c-7454-4974-8495-78abb25c9ba6')\"\n",
              "            title=\"Suggest charts\"\n",
              "            style=\"display:none;\">\n",
              "\n",
              "<svg xmlns=\"http://www.w3.org/2000/svg\" height=\"24px\"viewBox=\"0 0 24 24\"\n",
              "     width=\"24px\">\n",
              "    <g>\n",
              "        <path d=\"M19 3H5c-1.1 0-2 .9-2 2v14c0 1.1.9 2 2 2h14c1.1 0 2-.9 2-2V5c0-1.1-.9-2-2-2zM9 17H7v-7h2v7zm4 0h-2V7h2v10zm4 0h-2v-4h2v4z\"/>\n",
              "    </g>\n",
              "</svg>\n",
              "  </button>\n",
              "\n",
              "<style>\n",
              "  .colab-df-quickchart {\n",
              "      --bg-color: #E8F0FE;\n",
              "      --fill-color: #1967D2;\n",
              "      --hover-bg-color: #E2EBFA;\n",
              "      --hover-fill-color: #174EA6;\n",
              "      --disabled-fill-color: #AAA;\n",
              "      --disabled-bg-color: #DDD;\n",
              "  }\n",
              "\n",
              "  [theme=dark] .colab-df-quickchart {\n",
              "      --bg-color: #3B4455;\n",
              "      --fill-color: #D2E3FC;\n",
              "      --hover-bg-color: #434B5C;\n",
              "      --hover-fill-color: #FFFFFF;\n",
              "      --disabled-bg-color: #3B4455;\n",
              "      --disabled-fill-color: #666;\n",
              "  }\n",
              "\n",
              "  .colab-df-quickchart {\n",
              "    background-color: var(--bg-color);\n",
              "    border: none;\n",
              "    border-radius: 50%;\n",
              "    cursor: pointer;\n",
              "    display: none;\n",
              "    fill: var(--fill-color);\n",
              "    height: 32px;\n",
              "    padding: 0;\n",
              "    width: 32px;\n",
              "  }\n",
              "\n",
              "  .colab-df-quickchart:hover {\n",
              "    background-color: var(--hover-bg-color);\n",
              "    box-shadow: 0 1px 2px rgba(60, 64, 67, 0.3), 0 1px 3px 1px rgba(60, 64, 67, 0.15);\n",
              "    fill: var(--button-hover-fill-color);\n",
              "  }\n",
              "\n",
              "  .colab-df-quickchart-complete:disabled,\n",
              "  .colab-df-quickchart-complete:disabled:hover {\n",
              "    background-color: var(--disabled-bg-color);\n",
              "    fill: var(--disabled-fill-color);\n",
              "    box-shadow: none;\n",
              "  }\n",
              "\n",
              "  .colab-df-spinner {\n",
              "    border: 2px solid var(--fill-color);\n",
              "    border-color: transparent;\n",
              "    border-bottom-color: var(--fill-color);\n",
              "    animation:\n",
              "      spin 1s steps(1) infinite;\n",
              "  }\n",
              "\n",
              "  @keyframes spin {\n",
              "    0% {\n",
              "      border-color: transparent;\n",
              "      border-bottom-color: var(--fill-color);\n",
              "      border-left-color: var(--fill-color);\n",
              "    }\n",
              "    20% {\n",
              "      border-color: transparent;\n",
              "      border-left-color: var(--fill-color);\n",
              "      border-top-color: var(--fill-color);\n",
              "    }\n",
              "    30% {\n",
              "      border-color: transparent;\n",
              "      border-left-color: var(--fill-color);\n",
              "      border-top-color: var(--fill-color);\n",
              "      border-right-color: var(--fill-color);\n",
              "    }\n",
              "    40% {\n",
              "      border-color: transparent;\n",
              "      border-right-color: var(--fill-color);\n",
              "      border-top-color: var(--fill-color);\n",
              "    }\n",
              "    60% {\n",
              "      border-color: transparent;\n",
              "      border-right-color: var(--fill-color);\n",
              "    }\n",
              "    80% {\n",
              "      border-color: transparent;\n",
              "      border-right-color: var(--fill-color);\n",
              "      border-bottom-color: var(--fill-color);\n",
              "    }\n",
              "    90% {\n",
              "      border-color: transparent;\n",
              "      border-bottom-color: var(--fill-color);\n",
              "    }\n",
              "  }\n",
              "</style>\n",
              "\n",
              "  <script>\n",
              "    async function quickchart(key) {\n",
              "      const quickchartButtonEl =\n",
              "        document.querySelector('#' + key + ' button');\n",
              "      quickchartButtonEl.disabled = true;  // To prevent multiple clicks.\n",
              "      quickchartButtonEl.classList.add('colab-df-spinner');\n",
              "      try {\n",
              "        const charts = await google.colab.kernel.invokeFunction(\n",
              "            'suggestCharts', [key], {});\n",
              "      } catch (error) {\n",
              "        console.error('Error during call to suggestCharts:', error);\n",
              "      }\n",
              "      quickchartButtonEl.classList.remove('colab-df-spinner');\n",
              "      quickchartButtonEl.classList.add('colab-df-quickchart-complete');\n",
              "    }\n",
              "    (() => {\n",
              "      let quickchartButtonEl =\n",
              "        document.querySelector('#df-6eef215c-7454-4974-8495-78abb25c9ba6 button');\n",
              "      quickchartButtonEl.style.display =\n",
              "        google.colab.kernel.accessAllowed ? 'block' : 'none';\n",
              "    })();\n",
              "  </script>\n",
              "</div>\n",
              "\n",
              "    </div>\n",
              "  </div>\n"
            ],
            "application/vnd.google.colaboratory.intrinsic+json": {
              "type": "dataframe",
              "variable_name": "df_train"
            }
          },
          "metadata": {},
          "execution_count": 7
        }
      ]
    },
    {
      "cell_type": "markdown",
      "source": [],
      "metadata": {
        "id": "27h0A8rrBEUZ"
      }
    },
    {
      "cell_type": "code",
      "source": [
        "# Config cell\n",
        "target = \"ProdTaken\""
      ],
      "metadata": {
        "id": "chhVV9ed_Yjt"
      },
      "execution_count": 20,
      "outputs": []
    },
    {
      "cell_type": "code",
      "source": [
        "default_categorical_features = ['TypeofContact', 'CityTier', 'Occupation', 'Gender', 'ProductPitched', 'PreferredPropertyStar',\n",
        "                                'Passport', 'PitchSatisfactionScore', 'Designation', 'MaritalStatus']\n",
        "default_numerical_features = ['id','Age', 'DurationOfPitch', 'MonthlyIncome',\n",
        "                            'NumberOfPersonVisiting', 'NumberOfFollowups', 'NumberOfTrips', 'NumberOfChildren','OwnCar'\n",
        "                              ]\n",
        "added_numerical_features = ['HasChildren','IncomePerChild','AnnualIncomePerTrip','PitchPlusFollowups','AdultTravelers']\n",
        " #['IncomePerAge','FamilySize','IncomePerFamilySize','IncomePerTrips','PersonTripsProduct','IncomePerChild','LogMonthlyIncome','PitchFollowupInteraction','TripsPerAge',\n",
        "#'IncomeStarInteraction','FollowupEfficiency','IncomePerPerson','StarPerCityTier','IncomePerStar','LuxuryAffinity','FollowupPerTrip']\n",
        "numerical_features = default_numerical_features + added_numerical_features\n",
        "\n",
        "\n",
        "\n",
        "#特徴量の指定\n",
        "features = df_train.columns.tolist()\n",
        "#カテゴリカル特徴量の指定\n",
        "categorical_features = copy.deepcopy(features)\n",
        "print(f'numerical_features {numerical_features}')\n",
        "for i in numerical_features:\n",
        "    categorical_features.remove(i)\n",
        "print(f'categorical_features {categorical_features}')\n",
        "\n",
        "#学習に使用しない特徴量は以下で除外\n",
        "RemoveList=['id',target,'HasChildren']\n",
        "for i in RemoveList:\n",
        "    if i in numerical_features:\n",
        "        numerical_features.remove(i)\n",
        "        features.remove(i)\n",
        "    elif i in categorical_features:\n",
        "        categorical_features.remove(i)\n",
        "        features.remove(i)\n",
        "    else:\n",
        "        features.remove(i)\n",
        "print(f'features for training:{features}')\n",
        "\n",
        "for col in categorical_features:\n",
        "    df_train[col] = df_train[col].astype(int)\n",
        "    df_test[col] = df_test[col].astype(int)"
      ],
      "metadata": {
        "colab": {
          "base_uri": "https://localhost:8080/"
        },
        "id": "mlcm8YyhA3eB",
        "outputId": "ac4e05be-43f9-490d-d6ef-e98f259f0720"
      },
      "execution_count": 21,
      "outputs": [
        {
          "output_type": "stream",
          "name": "stdout",
          "text": [
            "numerical_features ['id', 'Age', 'DurationOfPitch', 'MonthlyIncome', 'NumberOfPersonVisiting', 'NumberOfFollowups', 'NumberOfTrips', 'NumberOfChildren', 'OwnCar', 'HasChildren', 'IncomePerChild', 'AnnualIncomePerTrip', 'PitchPlusFollowups', 'AdultTravelers']\n",
            "categorical_features ['TypeofContact', 'CityTier', 'Occupation', 'Gender', 'ProductPitched', 'PreferredPropertyStar', 'Passport', 'PitchSatisfactionScore', 'Designation', 'ProdTaken', 'MaritalStatus']\n",
            "features for training:['Age', 'TypeofContact', 'CityTier', 'DurationOfPitch', 'Occupation', 'Gender', 'NumberOfPersonVisiting', 'NumberOfFollowups', 'ProductPitched', 'PreferredPropertyStar', 'NumberOfTrips', 'Passport', 'PitchSatisfactionScore', 'Designation', 'MonthlyIncome', 'MaritalStatus', 'OwnCar', 'NumberOfChildren', 'IncomePerChild', 'AnnualIncomePerTrip', 'PitchPlusFollowups', 'AdultTravelers']\n"
          ]
        }
      ]
    },
    {
      "cell_type": "code",
      "source": [
        "cols_category=categorical_features"
      ],
      "metadata": {
        "id": "m95qoIe1CSUz"
      },
      "execution_count": 22,
      "outputs": []
    },
    {
      "cell_type": "code",
      "source": [
        "train_y = df_train[target]\n",
        "train_x = df_train.drop(target, axis=1)"
      ],
      "metadata": {
        "id": "VYQ31nPEJ-FR"
      },
      "execution_count": 23,
      "outputs": []
    },
    {
      "cell_type": "code",
      "source": [
        "train_y.head()"
      ],
      "metadata": {
        "id": "zIzJ_2t--r5_",
        "outputId": "4cad64f2-30bc-42ba-c6e1-dee6b722d795",
        "colab": {
          "base_uri": "https://localhost:8080/",
          "height": 241
        }
      },
      "execution_count": 24,
      "outputs": [
        {
          "output_type": "execute_result",
          "data": {
            "text/plain": [
              "0    1.0\n",
              "1    0.0\n",
              "2    1.0\n",
              "3    0.0\n",
              "4    1.0\n",
              "Name: ProdTaken, dtype: float64"
            ],
            "text/html": [
              "<div>\n",
              "<style scoped>\n",
              "    .dataframe tbody tr th:only-of-type {\n",
              "        vertical-align: middle;\n",
              "    }\n",
              "\n",
              "    .dataframe tbody tr th {\n",
              "        vertical-align: top;\n",
              "    }\n",
              "\n",
              "    .dataframe thead th {\n",
              "        text-align: right;\n",
              "    }\n",
              "</style>\n",
              "<table border=\"1\" class=\"dataframe\">\n",
              "  <thead>\n",
              "    <tr style=\"text-align: right;\">\n",
              "      <th></th>\n",
              "      <th>ProdTaken</th>\n",
              "    </tr>\n",
              "  </thead>\n",
              "  <tbody>\n",
              "    <tr>\n",
              "      <th>0</th>\n",
              "      <td>1.0</td>\n",
              "    </tr>\n",
              "    <tr>\n",
              "      <th>1</th>\n",
              "      <td>0.0</td>\n",
              "    </tr>\n",
              "    <tr>\n",
              "      <th>2</th>\n",
              "      <td>1.0</td>\n",
              "    </tr>\n",
              "    <tr>\n",
              "      <th>3</th>\n",
              "      <td>0.0</td>\n",
              "    </tr>\n",
              "    <tr>\n",
              "      <th>4</th>\n",
              "      <td>1.0</td>\n",
              "    </tr>\n",
              "  </tbody>\n",
              "</table>\n",
              "</div><br><label><b>dtype:</b> float64</label>"
            ]
          },
          "metadata": {},
          "execution_count": 24
        }
      ]
    },
    {
      "cell_type": "code",
      "source": [
        "\n",
        "params_cat = {\n",
        "    \"iterations\": 1000,  # n_estimatorsに相当\n",
        "    'eval_metric' : 'AUC',\n",
        "    'depth':1,\n",
        "    'l2_leaf_reg' : 8,\n",
        "    \"learning_rate\": 0.1,\n",
        "    \"colsample_bylevel\": 0.8,  # colsample_bytreeに相当\n",
        "    'one_hot_max_size' : 25,\n",
        "    \"random_seed\": 0,\n",
        "    \"verbose\": 100,  # 学習の進捗を100回毎に表示\n",
        "    \"use_best_model\": True,  # 早期停止のための設定\n",
        "}"
      ],
      "metadata": {
        "id": "Rv2nSr5T8aPJ"
      },
      "execution_count": 25,
      "outputs": []
    },
    {
      "cell_type": "code",
      "source": [
        "\n",
        "# f1スコアが最も高くなる点を見つける\n",
        "from sklearn import metrics\n",
        "def decide_cutoff(val_y, preds_y_proba):\n",
        "    mean_f1_list = []\n",
        "    fpr, tpr, thresholds = metrics.roc_curve(val_y, preds_y_proba)\n",
        "    for threshold in thresholds:\n",
        "        preds_y = [1 if prob > threshold else 0 for prob in preds_y_proba]\n",
        "        #preds_y=preds_y_proba\n",
        "        mean_f1_list.append(f1_score(val_y, preds_y, average='macro'))\n",
        "    return np.max(mean_f1_list), thresholds[np.argmax(mean_f1_list)]"
      ],
      "metadata": {
        "id": "1W6fRjos-pCm"
      },
      "execution_count": 26,
      "outputs": []
    },
    {
      "cell_type": "code",
      "source": [
        "!pip install shap"
      ],
      "metadata": {
        "colab": {
          "base_uri": "https://localhost:8080/"
        },
        "id": "d2VbqCszLswh",
        "outputId": "3bf114bb-daec-4bfb-eba1-d6c9d622f819"
      },
      "execution_count": 27,
      "outputs": [
        {
          "output_type": "stream",
          "name": "stdout",
          "text": [
            "Requirement already satisfied: shap in /usr/local/lib/python3.10/dist-packages (0.46.0)\n",
            "Requirement already satisfied: numpy in /usr/local/lib/python3.10/dist-packages (from shap) (1.26.4)\n",
            "Requirement already satisfied: scipy in /usr/local/lib/python3.10/dist-packages (from shap) (1.13.1)\n",
            "Requirement already satisfied: scikit-learn in /usr/local/lib/python3.10/dist-packages (from shap) (1.3.2)\n",
            "Requirement already satisfied: pandas in /usr/local/lib/python3.10/dist-packages (from shap) (2.1.4)\n",
            "Requirement already satisfied: tqdm>=4.27.0 in /usr/local/lib/python3.10/dist-packages (from shap) (4.66.5)\n",
            "Requirement already satisfied: packaging>20.9 in /usr/local/lib/python3.10/dist-packages (from shap) (24.1)\n",
            "Requirement already satisfied: slicer==0.0.8 in /usr/local/lib/python3.10/dist-packages (from shap) (0.0.8)\n",
            "Requirement already satisfied: numba in /usr/local/lib/python3.10/dist-packages (from shap) (0.60.0)\n",
            "Requirement already satisfied: cloudpickle in /usr/local/lib/python3.10/dist-packages (from shap) (2.2.1)\n",
            "Requirement already satisfied: llvmlite<0.44,>=0.43.0dev0 in /usr/local/lib/python3.10/dist-packages (from numba->shap) (0.43.0)\n",
            "Requirement already satisfied: python-dateutil>=2.8.2 in /usr/local/lib/python3.10/dist-packages (from pandas->shap) (2.8.2)\n",
            "Requirement already satisfied: pytz>=2020.1 in /usr/local/lib/python3.10/dist-packages (from pandas->shap) (2024.1)\n",
            "Requirement already satisfied: tzdata>=2022.1 in /usr/local/lib/python3.10/dist-packages (from pandas->shap) (2024.1)\n",
            "Requirement already satisfied: joblib>=1.1.1 in /usr/local/lib/python3.10/dist-packages (from scikit-learn->shap) (1.4.2)\n",
            "Requirement already satisfied: threadpoolctl>=2.0.0 in /usr/local/lib/python3.10/dist-packages (from scikit-learn->shap) (3.5.0)\n",
            "Requirement already satisfied: six>=1.5 in /usr/local/lib/python3.10/dist-packages (from python-dateutil>=2.8.2->pandas->shap) (1.16.0)\n"
          ]
        }
      ]
    },
    {
      "cell_type": "code",
      "source": [
        "import shap"
      ],
      "metadata": {
        "id": "XUjVvOjnLjv0"
      },
      "execution_count": 28,
      "outputs": []
    },
    {
      "cell_type": "code",
      "source": [
        "list_metrics_auc = []\n",
        "list_metrics_f1 = []\n",
        "list_cutoff = []\n",
        "list_models = []\n",
        "fraction_of_positives_list = []\n",
        "mean_predicted_value_list = []\n",
        "shap_values_list = []\n",
        "\n",
        "list_feature_importances = []  # 特徴量重要度を格納するリスト\n",
        "\n",
        "cv = StratifiedKFold(n_splits=7, shuffle=True, random_state=42)\n",
        "for fold, (trn_idx, val_idx) in enumerate(cv.split(train_x, train_y), start=1):\n",
        "    trn_x = train_x[features].iloc[trn_idx, :]\n",
        "    trn_y = train_y[trn_idx]\n",
        "    val_x = train_x[features].iloc[val_idx, :]\n",
        "    val_y = train_y[val_idx]\n",
        "    train_pool = Pool(data=trn_x, label=trn_y, cat_features=cols_category)\n",
        "    val_pool = Pool(data=val_x, label=val_y, cat_features=cols_category)\n",
        "\n",
        "    model_cat = CatBoostClassifier(**params_cat, early_stopping_rounds=100)\n",
        "    model_cat.fit(train_pool, eval_set=val_pool)\n",
        "\n",
        "    list_models.append(model_cat)\n",
        "    preds_y_proba = model_cat.predict_proba(val_pool)[:, 1]\n",
        "    auc = roc_auc_score(val_y, preds_y_proba)\n",
        "    f1, threshold = decide_cutoff(val_y, preds_y_proba)\n",
        "    list_metrics_auc.append(auc)\n",
        "    list_metrics_f1.append(f1)\n",
        "    list_cutoff.append(threshold)\n",
        "    print(f\"Fold: {fold}, AUC: {auc}, f1 score: {f1} Threshold: {threshold}\")\n",
        "\n",
        "    # 特徴量の重要度を追加\n",
        "    feature_importances = model_cat.get_feature_importance()\n",
        "    list_feature_importances.append(feature_importances)\n",
        "\n",
        "# AUCの出力\n",
        "print(\"Mean AUC:\", np.mean(list_metrics_auc))\n",
        "print(\"Mean F1 Score:\", np.mean(list_metrics_f1))\n",
        "print(\"Median Cutoff:\", np.median(list_cutoff))\n",
        "\n",
        "# 特徴量重要度の集計\n",
        "mean_feature_importances = np.mean(list_feature_importances, axis=0)\n",
        "\n",
        "# 結果の表示\n",
        "feature_importance_df = pd.DataFrame({\n",
        "    'Feature': features,\n",
        "    'Mean Importance': mean_feature_importances\n",
        "}).sort_values(by='Mean Importance', ascending=False)\n",
        "\n",
        "print(\"Feature Importances:\")\n",
        "print(feature_importance_df)"
      ],
      "metadata": {
        "colab": {
          "base_uri": "https://localhost:8080/"
        },
        "id": "GW11r17--6Yv",
        "outputId": "27ffbc8a-b7cf-4eb2-d046-f3a90055851a"
      },
      "execution_count": 30,
      "outputs": [
        {
          "output_type": "stream",
          "name": "stdout",
          "text": [
            "0:\ttest: 0.5987561\tbest: 0.5987561 (0)\ttotal: 2.88ms\tremaining: 2.87s\n",
            "100:\ttest: 0.8524253\tbest: 0.8524253 (100)\ttotal: 576ms\tremaining: 5.13s\n",
            "200:\ttest: 0.8565881\tbest: 0.8570324 (159)\ttotal: 1.14s\tremaining: 4.54s\n",
            "Stopped by overfitting detector  (100 iterations wait)\n",
            "\n",
            "bestTest = 0.8570323812\n",
            "bestIteration = 159\n",
            "\n",
            "Shrink model to first 160 iterations.\n",
            "Fold: 1, AUC: 0.8570323812031064, f1 score: 0.7222778779581023 Threshold: 0.21139103976983742\n",
            "0:\ttest: 0.6954719\tbest: 0.6954719 (0)\ttotal: 15.3ms\tremaining: 15.2s\n",
            "100:\ttest: 0.8242398\tbest: 0.8242398 (100)\ttotal: 825ms\tremaining: 7.35s\n",
            "200:\ttest: 0.8339805\tbest: 0.8339805 (200)\ttotal: 1.74s\tremaining: 6.9s\n",
            "300:\ttest: 0.8389167\tbest: 0.8396077 (291)\ttotal: 2.29s\tremaining: 5.33s\n",
            "400:\ttest: 0.8422404\tbest: 0.8422404 (400)\ttotal: 2.8s\tremaining: 4.18s\n",
            "500:\ttest: 0.8432605\tbest: 0.8440832 (487)\ttotal: 3.22s\tremaining: 3.21s\n",
            "600:\ttest: 0.8436225\tbest: 0.8442148 (550)\ttotal: 3.69s\tremaining: 2.45s\n",
            "700:\ttest: 0.8440832\tbest: 0.8443794 (633)\ttotal: 3.99s\tremaining: 1.7s\n",
            "Stopped by overfitting detector  (100 iterations wait)\n",
            "\n",
            "bestTest = 0.8443793603\n",
            "bestIteration = 633\n",
            "\n",
            "Shrink model to first 634 iterations.\n",
            "Fold: 2, AUC: 0.8443793602737923, f1 score: 0.7463974917316278 Threshold: 0.3254113943063931\n",
            "0:\ttest: 0.6457483\tbest: 0.6457483 (0)\ttotal: 3.23ms\tremaining: 3.22s\n",
            "100:\ttest: 0.8478182\tbest: 0.8481802 (95)\ttotal: 139ms\tremaining: 1.23s\n",
            "200:\ttest: 0.8427340\tbest: 0.8484764 (102)\ttotal: 508ms\tremaining: 2.02s\n",
            "Stopped by overfitting detector  (100 iterations wait)\n",
            "\n",
            "bestTest = 0.8484763723\n",
            "bestIteration = 102\n",
            "\n",
            "Shrink model to first 103 iterations.\n",
            "Fold: 3, AUC: 0.8484763722522048, f1 score: 0.7507492507492508 Threshold: 0.31951495049480744\n",
            "0:\ttest: 0.6256886\tbest: 0.6256886 (0)\ttotal: 1.51ms\tremaining: 1.51s\n",
            "100:\ttest: 0.8192433\tbest: 0.8192763 (99)\ttotal: 461ms\tremaining: 4.1s\n",
            "200:\ttest: 0.8337237\tbest: 0.8337237 (200)\ttotal: 700ms\tremaining: 2.78s\n",
            "300:\ttest: 0.8392651\tbest: 0.8394960 (287)\ttotal: 816ms\tremaining: 1.89s\n",
            "400:\ttest: 0.8417060\tbest: 0.8422007 (367)\ttotal: 934ms\tremaining: 1.4s\n",
            "500:\ttest: 0.8436851\tbest: 0.8436851 (500)\ttotal: 1.04s\tremaining: 1.04s\n",
            "600:\ttest: 0.8441468\tbest: 0.8447406 (590)\ttotal: 1.15s\tremaining: 766ms\n",
            "700:\ttest: 0.8445427\tbest: 0.8449385 (627)\ttotal: 1.26s\tremaining: 539ms\n",
            "Stopped by overfitting detector  (100 iterations wait)\n",
            "\n",
            "bestTest = 0.8449384834\n",
            "bestIteration = 627\n",
            "\n",
            "Shrink model to first 628 iterations.\n",
            "Fold: 4, AUC: 0.8449384833591714, f1 score: 0.7096903335463798 Threshold: 0.18804177578472905\n",
            "0:\ttest: 0.6081077\tbest: 0.6081077 (0)\ttotal: 1.54ms\tremaining: 1.54s\n",
            "100:\ttest: 0.8235808\tbest: 0.8238777 (98)\ttotal: 110ms\tremaining: 983ms\n",
            "200:\ttest: 0.8310849\tbest: 0.8310849 (200)\ttotal: 237ms\tremaining: 942ms\n",
            "300:\ttest: 0.8301943\tbest: 0.8315302 (250)\ttotal: 344ms\tremaining: 799ms\n",
            "Stopped by overfitting detector  (100 iterations wait)\n",
            "\n",
            "bestTest = 0.8315301646\n",
            "bestIteration = 250\n",
            "\n",
            "Shrink model to first 251 iterations.\n",
            "Fold: 5, AUC: 0.8315301645941222, f1 score: 0.7189808481532147 Threshold: 0.28938599817880406\n",
            "0:\ttest: 0.6151499\tbest: 0.6151499 (0)\ttotal: 1.17ms\tremaining: 1.17s\n",
            "100:\ttest: 0.8880991\tbest: 0.8881980 (98)\ttotal: 107ms\tremaining: 954ms\n",
            "200:\ttest: 0.8938879\tbest: 0.8943167 (195)\ttotal: 217ms\tremaining: 862ms\n",
            "300:\ttest: 0.8929973\tbest: 0.8946466 (227)\ttotal: 328ms\tremaining: 762ms\n",
            "Stopped by overfitting detector  (100 iterations wait)\n",
            "\n",
            "bestTest = 0.8946465679\n",
            "bestIteration = 227\n",
            "\n",
            "Shrink model to first 228 iterations.\n",
            "Fold: 6, AUC: 0.8946465679321832, f1 score: 0.7699769053117782 Threshold: 0.3412212685649507\n",
            "0:\ttest: 0.6268760\tbest: 0.6268760 (0)\ttotal: 1.63ms\tremaining: 1.63s\n",
            "100:\ttest: 0.8204143\tbest: 0.8204143 (100)\ttotal: 109ms\tremaining: 974ms\n",
            "200:\ttest: 0.8244879\tbest: 0.8255764 (196)\ttotal: 224ms\tremaining: 889ms\n",
            "300:\ttest: 0.8250487\tbest: 0.8257413 (292)\ttotal: 334ms\tremaining: 776ms\n",
            "400:\ttest: 0.8258733\tbest: 0.8260712 (336)\ttotal: 455ms\tremaining: 679ms\n",
            "500:\ttest: 0.8261372\tbest: 0.8269288 (435)\ttotal: 566ms\tremaining: 564ms\n",
            "Stopped by overfitting detector  (100 iterations wait)\n",
            "\n",
            "bestTest = 0.8269287858\n",
            "bestIteration = 435\n",
            "\n",
            "Shrink model to first 436 iterations.\n",
            "Fold: 7, AUC: 0.8269287858297325, f1 score: 0.7127400848091794 Threshold: 0.25995234459074795\n",
            "Mean AUC: 0.8497045879206161\n",
            "Mean F1 Score: 0.7329732560370762\n",
            "Median Cutoff: 0.28938599817880406\n",
            "Feature Importances:\n",
            "                   Feature  Mean Importance\n",
            "8           ProductPitched        22.736635\n",
            "13             Designation        16.347369\n",
            "14           MonthlyIncome        10.473018\n",
            "15           MaritalStatus        10.232478\n",
            "11                Passport         9.325778\n",
            "0                      Age         6.002587\n",
            "2                 CityTier         5.387004\n",
            "5                   Gender         4.613058\n",
            "19     AnnualIncomePerTrip         3.159616\n",
            "12  PitchSatisfactionScore         1.785026\n",
            "1            TypeofContact         1.643314\n",
            "20      PitchPlusFollowups         1.556926\n",
            "18          IncomePerChild         1.360791\n",
            "10           NumberOfTrips         1.023723\n",
            "9    PreferredPropertyStar         0.957024\n",
            "7        NumberOfFollowups         0.935467\n",
            "3          DurationOfPitch         0.856846\n",
            "16                  OwnCar         0.711379\n",
            "4               Occupation         0.370661\n",
            "21          AdultTravelers         0.363420\n",
            "17        NumberOfChildren         0.147100\n",
            "6   NumberOfPersonVisiting         0.010780\n"
          ]
        }
      ]
    },
    {
      "cell_type": "code",
      "source": [
        "0.8497045879206161"
      ],
      "metadata": {
        "colab": {
          "base_uri": "https://localhost:8080/",
          "height": 106
        },
        "id": "aFmVMidRT2Bc",
        "outputId": "14c60243-b524-43a2-f332-934eae44d1f3"
      },
      "execution_count": null,
      "outputs": [
        {
          "output_type": "error",
          "ename": "SyntaxError",
          "evalue": "invalid syntax (<ipython-input-81-76ea1f53a6c0>, line 1)",
          "traceback": [
            "\u001b[0;36m  File \u001b[0;32m\"<ipython-input-81-76ea1f53a6c0>\"\u001b[0;36m, line \u001b[0;32m1\u001b[0m\n\u001b[0;31m    Mean AUC: 0.8420388335705169\u001b[0m\n\u001b[0m         ^\u001b[0m\n\u001b[0;31mSyntaxError\u001b[0m\u001b[0;31m:\u001b[0m invalid syntax\n"
          ]
        }
      ]
    },
    {
      "cell_type": "code",
      "source": [],
      "metadata": {
        "id": "EdMFFpTuPG0M"
      },
      "execution_count": null,
      "outputs": []
    },
    {
      "cell_type": "code",
      "source": [],
      "metadata": {
        "id": "Uppd51mbPG2_"
      },
      "execution_count": null,
      "outputs": []
    },
    {
      "cell_type": "code",
      "source": [
        "0.8437365146029495"
      ],
      "metadata": {
        "id": "dQsXqJWDdXKZ"
      },
      "execution_count": null,
      "outputs": []
    },
    {
      "cell_type": "code",
      "source": [],
      "metadata": {
        "id": "SZepdoZDEjma"
      },
      "execution_count": null,
      "outputs": []
    },
    {
      "cell_type": "code",
      "source": [
        "import pickle"
      ],
      "metadata": {
        "id": "aR74EvhLFpSc"
      },
      "execution_count": 31,
      "outputs": []
    },
    {
      "cell_type": "code",
      "source": [
        "# モデルを保存する\n",
        "# 全てのモデルを保存する\n",
        "for fold, model_cat in enumerate(list_models, start=1):\n",
        "    with open(f'/content/drive/MyDrive/Signate/2024summer/models/catboost_fold_v12{fold}.pkl', 'wb') as f:\n",
        "        pickle.dump(model_cat, f)"
      ],
      "metadata": {
        "id": "1gtDpO1xGCLL"
      },
      "execution_count": 32,
      "outputs": []
    },
    {
      "cell_type": "code",
      "source": [
        "\n",
        "\n",
        "threshold = np.median(list_cutoff)\n",
        "preds_y_proba = np.zeros(len(df_test))\n",
        "for model in list_models:\n",
        "    feature_names = model.feature_names_\n",
        "    preds_y_proba += model.predict_proba(df_test[feature_names])[:, 1] / len(list_models)\n",
        "    print(f\"Model: {model}, Proba: {preds_y_proba}\")  # 予測確率を表示\n",
        "preds_y = preds_y_proba\n",
        "\n"
      ],
      "metadata": {
        "colab": {
          "base_uri": "https://localhost:8080/"
        },
        "id": "cg8STlKEHfz0",
        "outputId": "b3a0001c-ea73-4e2f-de00-39dddf24a7c7"
      },
      "execution_count": 33,
      "outputs": [
        {
          "output_type": "stream",
          "name": "stdout",
          "text": [
            "Model: <catboost.core.CatBoostClassifier object at 0x7d2848b19630>, Proba: [0.01355773 0.02475626 0.0360633  ... 0.07731399 0.03559452 0.00184477]\n",
            "Model: <catboost.core.CatBoostClassifier object at 0x7d2849582e60>, Proba: [0.02909037 0.06344698 0.07571399 ... 0.16205036 0.06661662 0.00258255]\n",
            "Model: <catboost.core.CatBoostClassifier object at 0x7d2848ae6a10>, Proba: [0.03879153 0.08964563 0.11112691 ... 0.24537928 0.10815506 0.00555456]\n",
            "Model: <catboost.core.CatBoostClassifier object at 0x7d2848b382e0>, Proba: [0.051437   0.13036282 0.14575474 ... 0.3396673  0.14022192 0.00629054]\n",
            "Model: <catboost.core.CatBoostClassifier object at 0x7d2848ae74c0>, Proba: [0.06275489 0.16689703 0.18581478 ... 0.43209416 0.17269807 0.00747531]\n",
            "Model: <catboost.core.CatBoostClassifier object at 0x7d2848b3bf40>, Proba: [0.07437803 0.1984235  0.22154697 ... 0.5132422  0.20572464 0.00888703]\n",
            "Model: <catboost.core.CatBoostClassifier object at 0x7d28808473d0>, Proba: [0.08751643 0.23724194 0.25783221 ... 0.61133363 0.24278213 0.00948959]\n"
          ]
        }
      ]
    },
    {
      "cell_type": "code",
      "source": [
        "count = 70"
      ],
      "metadata": {
        "id": "r3jW57TBIfkZ"
      },
      "execution_count": 34,
      "outputs": []
    },
    {
      "cell_type": "code",
      "source": [
        "\n",
        "from datetime import datetime\n",
        "import pytz\n",
        "# カウント変数をインクリメント\n",
        "count += 1\n",
        "# 日本時間を取得\n",
        "japan_tz = pytz.timezone('Asia/Tokyo')\n",
        "now = datetime.now(japan_tz)\n",
        "timestamp = now.strftime(\"%Y%m%d_%H%M%S\")\n",
        "\n",
        "file_name = f\"/content/drive/MyDrive/Signate/2024summer/catboost_{timestamp}_{count:03d}.csv\"\n",
        "ss[1] = preds_y\n",
        "ss.to_csv(file_name, header=False, index=False)"
      ],
      "metadata": {
        "id": "ImOkzJPsIfnO"
      },
      "execution_count": 35,
      "outputs": []
    }
  ]
}
