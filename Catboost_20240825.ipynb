{
  "nbformat": 4,
  "nbformat_minor": 0,
  "metadata": {
    "colab": {
      "provenance": [],
      "authorship_tag": "ABX9TyO8yETowxmnZwENPVz4pMZh",
      "include_colab_link": true
    },
    "kernelspec": {
      "name": "python3",
      "display_name": "Python 3"
    },
    "language_info": {
      "name": "python"
    }
  },
  "cells": [
    {
      "cell_type": "markdown",
      "metadata": {
        "id": "view-in-github",
        "colab_type": "text"
      },
      "source": [
        "<a href=\"https://colab.research.google.com/github/mamekin05108/signatecup2024summer/blob/main/Catboost_20240825.ipynb\" target=\"_parent\"><img src=\"https://colab.research.google.com/assets/colab-badge.svg\" alt=\"Open In Colab\"/></a>"
      ]
    },
    {
      "cell_type": "code",
      "execution_count": 1,
      "metadata": {
        "colab": {
          "base_uri": "https://localhost:8080/"
        },
        "id": "bvlrPdPg7-h_",
        "outputId": "7de71397-49a5-40e3-aa01-60786fc93b8a"
      },
      "outputs": [
        {
          "output_type": "stream",
          "name": "stdout",
          "text": [
            "Mounted at /content/drive\n"
          ]
        }
      ],
      "source": [
        "from google.colab import drive\n",
        "drive.mount('/content/drive')"
      ]
    },
    {
      "cell_type": "code",
      "source": [
        "import pandas as pd\n",
        "import numpy as np\n",
        "import matplotlib.pyplot as plt\n",
        "import seaborn as sns\n",
        "import warnings\n",
        "import re\n",
        "import copy\n",
        "import lightgbm as lgb\n",
        "from sklearn import metrics\n",
        "from sklearn.metrics import f1_score, roc_auc_score\n",
        "from sklearn.model_selection import StratifiedKFold\n",
        "\n",
        "# warningsを非表示にする\n",
        "warnings.filterwarnings(\"ignore\")"
      ],
      "metadata": {
        "id": "2iIgCK4U8VFz",
        "colab": {
          "base_uri": "https://localhost:8080/"
        },
        "outputId": "5607092f-82cf-4343-fcd6-c9ff683c8be4"
      },
      "execution_count": 2,
      "outputs": [
        {
          "output_type": "stream",
          "name": "stderr",
          "text": [
            "/usr/local/lib/python3.10/dist-packages/dask/dataframe/__init__.py:42: FutureWarning: \n",
            "Dask dataframe query planning is disabled because dask-expr is not installed.\n",
            "\n",
            "You can install it with `pip install dask[dataframe]` or `conda install dask`.\n",
            "This will raise in a future version.\n",
            "\n",
            "  warnings.warn(msg, FutureWarning)\n"
          ]
        }
      ]
    },
    {
      "cell_type": "code",
      "source": [
        "\n",
        "!pip install catboost"
      ],
      "metadata": {
        "colab": {
          "base_uri": "https://localhost:8080/"
        },
        "id": "pvhM-14h-u8v",
        "outputId": "f7981a02-d03a-42bd-a1c1-0497b2869065"
      },
      "execution_count": 3,
      "outputs": [
        {
          "output_type": "stream",
          "name": "stdout",
          "text": [
            "Collecting catboost\n",
            "  Downloading catboost-1.2.5-cp310-cp310-manylinux2014_x86_64.whl.metadata (1.2 kB)\n",
            "Requirement already satisfied: graphviz in /usr/local/lib/python3.10/dist-packages (from catboost) (0.20.3)\n",
            "Requirement already satisfied: matplotlib in /usr/local/lib/python3.10/dist-packages (from catboost) (3.7.1)\n",
            "Requirement already satisfied: numpy>=1.16.0 in /usr/local/lib/python3.10/dist-packages (from catboost) (1.26.4)\n",
            "Requirement already satisfied: pandas>=0.24 in /usr/local/lib/python3.10/dist-packages (from catboost) (2.1.4)\n",
            "Requirement already satisfied: scipy in /usr/local/lib/python3.10/dist-packages (from catboost) (1.13.1)\n",
            "Requirement already satisfied: plotly in /usr/local/lib/python3.10/dist-packages (from catboost) (5.15.0)\n",
            "Requirement already satisfied: six in /usr/local/lib/python3.10/dist-packages (from catboost) (1.16.0)\n",
            "Requirement already satisfied: python-dateutil>=2.8.2 in /usr/local/lib/python3.10/dist-packages (from pandas>=0.24->catboost) (2.8.2)\n",
            "Requirement already satisfied: pytz>=2020.1 in /usr/local/lib/python3.10/dist-packages (from pandas>=0.24->catboost) (2024.1)\n",
            "Requirement already satisfied: tzdata>=2022.1 in /usr/local/lib/python3.10/dist-packages (from pandas>=0.24->catboost) (2024.1)\n",
            "Requirement already satisfied: contourpy>=1.0.1 in /usr/local/lib/python3.10/dist-packages (from matplotlib->catboost) (1.2.1)\n",
            "Requirement already satisfied: cycler>=0.10 in /usr/local/lib/python3.10/dist-packages (from matplotlib->catboost) (0.12.1)\n",
            "Requirement already satisfied: fonttools>=4.22.0 in /usr/local/lib/python3.10/dist-packages (from matplotlib->catboost) (4.53.1)\n",
            "Requirement already satisfied: kiwisolver>=1.0.1 in /usr/local/lib/python3.10/dist-packages (from matplotlib->catboost) (1.4.5)\n",
            "Requirement already satisfied: packaging>=20.0 in /usr/local/lib/python3.10/dist-packages (from matplotlib->catboost) (24.1)\n",
            "Requirement already satisfied: pillow>=6.2.0 in /usr/local/lib/python3.10/dist-packages (from matplotlib->catboost) (9.4.0)\n",
            "Requirement already satisfied: pyparsing>=2.3.1 in /usr/local/lib/python3.10/dist-packages (from matplotlib->catboost) (3.1.4)\n",
            "Requirement already satisfied: tenacity>=6.2.0 in /usr/local/lib/python3.10/dist-packages (from plotly->catboost) (9.0.0)\n",
            "Downloading catboost-1.2.5-cp310-cp310-manylinux2014_x86_64.whl (98.2 MB)\n",
            "\u001b[2K   \u001b[90m━━━━━━━━━━━━━━━━━━━━━━━━━━━━━━━━━━━━━━━━\u001b[0m \u001b[32m98.2/98.2 MB\u001b[0m \u001b[31m8.0 MB/s\u001b[0m eta \u001b[36m0:00:00\u001b[0m\n",
            "\u001b[?25hInstalling collected packages: catboost\n",
            "Successfully installed catboost-1.2.5\n"
          ]
        }
      ]
    },
    {
      "cell_type": "code",
      "source": [
        "pd.set_option('display.max_columns',100)\n",
        "pd.set_option('display.max_rows',100)"
      ],
      "metadata": {
        "id": "Ja5UEEfDHt1j"
      },
      "execution_count": 4,
      "outputs": []
    },
    {
      "cell_type": "code",
      "source": [
        "\n",
        "from sklearn.calibration import calibration_curve, CalibratedClassifierCV\n",
        "from sklearn.metrics import roc_auc_score\n",
        "from catboost import CatBoostClassifier, Pool"
      ],
      "metadata": {
        "id": "oRfT4bm6-0gv"
      },
      "execution_count": 5,
      "outputs": []
    },
    {
      "cell_type": "code",
      "source": [
        "df_train = pd.read_csv(\"/content/drive/MyDrive/Signate/2024summer/fdata/df_trainV9.csv\")\n",
        "df_test = pd.read_csv(\"/content/drive/MyDrive/Signate/2024summer/fdata/df_testV9.csv\")\n",
        "ss = pd.read_csv(\"/content/drive/MyDrive/Signate/2024summer/data/sample_submit.csv\", header=None)"
      ],
      "metadata": {
        "id": "t_Gmoblh8Y3H"
      },
      "execution_count": 36,
      "outputs": []
    },
    {
      "cell_type": "code",
      "source": [
        "df_train.head()"
      ],
      "metadata": {
        "colab": {
          "base_uri": "https://localhost:8080/",
          "height": 226
        },
        "id": "QyPkdV-F_lfh",
        "outputId": "27e5fc02-31fc-4a54-b343-70495230280e"
      },
      "execution_count": 7,
      "outputs": [
        {
          "output_type": "execute_result",
          "data": {
            "text/plain": [
              "     id   Age  TypeofContact  CityTier  DurationOfPitch  Occupation  Gender  \\\n",
              "0  3489  48.0              1         2             13.0           1       0   \n",
              "1  3490  30.0              1         2             12.0           1       1   \n",
              "2  3491  25.0              1         1              9.0           0       1   \n",
              "3  3492  21.0              0         2              7.0           0       0   \n",
              "4  3493  41.0              0         1              7.0           0       0   \n",
              "\n",
              "   NumberOfPersonVisiting  NumberOfFollowups  ProductPitched  \\\n",
              "0                     1.0                4.0               1   \n",
              "1                     1.0                4.0               3   \n",
              "2                     1.0                4.0               4   \n",
              "3                     1.0                4.0               4   \n",
              "4                     1.0                4.0               4   \n",
              "\n",
              "   PreferredPropertyStar  NumberOfTrips  Passport  PitchSatisfactionScore  \\\n",
              "0                    3.0            7.0         0                       3   \n",
              "1                    3.0            4.0         1                       3   \n",
              "2                    3.0            1.0         0                       3   \n",
              "3                    4.0            1.0         0                       3   \n",
              "4                    3.0            1.0         0                       4   \n",
              "\n",
              "   Designation  MonthlyIncome  ProdTaken  MaritalStatus  OwnCar  \\\n",
              "0     1.000000       496950.0        NaN              2       1   \n",
              "1     3.445506       300000.0        NaN              2       0   \n",
              "2     4.000000       260000.0        NaN              3       0   \n",
              "3     4.077367       259875.0        NaN              3       1   \n",
              "4     4.000000       268830.0        NaN              0       1   \n",
              "\n",
              "   NumberOfChildren  HasChildren  IncomePerChild  AnnualIncomePerTrip  \\\n",
              "0               0.0            0    4.969500e+10         8.519131e+05   \n",
              "1               0.0            0    3.000000e+10         8.999978e+05   \n",
              "2               0.0            0    2.600000e+10         3.119969e+06   \n",
              "3               0.0            0    2.598750e+10         3.118469e+06   \n",
              "4               0.0            0    2.688300e+10         3.225928e+06   \n",
              "\n",
              "   PitchPlusFollowups  AdultTravelers  \n",
              "0                21.0             1.0  \n",
              "1                20.0             1.0  \n",
              "2                17.0             1.0  \n",
              "3                15.0             1.0  \n",
              "4                15.0             1.0  "
            ],
            "text/html": [
              "\n",
              "  <div id=\"df-f3963f64-8ea3-4756-9fc9-dc4c4285e915\" class=\"colab-df-container\">\n",
              "    <div>\n",
              "<style scoped>\n",
              "    .dataframe tbody tr th:only-of-type {\n",
              "        vertical-align: middle;\n",
              "    }\n",
              "\n",
              "    .dataframe tbody tr th {\n",
              "        vertical-align: top;\n",
              "    }\n",
              "\n",
              "    .dataframe thead th {\n",
              "        text-align: right;\n",
              "    }\n",
              "</style>\n",
              "<table border=\"1\" class=\"dataframe\">\n",
              "  <thead>\n",
              "    <tr style=\"text-align: right;\">\n",
              "      <th></th>\n",
              "      <th>id</th>\n",
              "      <th>Age</th>\n",
              "      <th>TypeofContact</th>\n",
              "      <th>CityTier</th>\n",
              "      <th>DurationOfPitch</th>\n",
              "      <th>Occupation</th>\n",
              "      <th>Gender</th>\n",
              "      <th>NumberOfPersonVisiting</th>\n",
              "      <th>NumberOfFollowups</th>\n",
              "      <th>ProductPitched</th>\n",
              "      <th>PreferredPropertyStar</th>\n",
              "      <th>NumberOfTrips</th>\n",
              "      <th>Passport</th>\n",
              "      <th>PitchSatisfactionScore</th>\n",
              "      <th>Designation</th>\n",
              "      <th>MonthlyIncome</th>\n",
              "      <th>ProdTaken</th>\n",
              "      <th>MaritalStatus</th>\n",
              "      <th>OwnCar</th>\n",
              "      <th>NumberOfChildren</th>\n",
              "      <th>HasChildren</th>\n",
              "      <th>IncomePerChild</th>\n",
              "      <th>AnnualIncomePerTrip</th>\n",
              "      <th>PitchPlusFollowups</th>\n",
              "      <th>AdultTravelers</th>\n",
              "    </tr>\n",
              "  </thead>\n",
              "  <tbody>\n",
              "    <tr>\n",
              "      <th>0</th>\n",
              "      <td>3489</td>\n",
              "      <td>48.0</td>\n",
              "      <td>1</td>\n",
              "      <td>2</td>\n",
              "      <td>13.0</td>\n",
              "      <td>1</td>\n",
              "      <td>0</td>\n",
              "      <td>1.0</td>\n",
              "      <td>4.0</td>\n",
              "      <td>1</td>\n",
              "      <td>3.0</td>\n",
              "      <td>7.0</td>\n",
              "      <td>0</td>\n",
              "      <td>3</td>\n",
              "      <td>1.000000</td>\n",
              "      <td>496950.0</td>\n",
              "      <td>NaN</td>\n",
              "      <td>2</td>\n",
              "      <td>1</td>\n",
              "      <td>0.0</td>\n",
              "      <td>0</td>\n",
              "      <td>4.969500e+10</td>\n",
              "      <td>8.519131e+05</td>\n",
              "      <td>21.0</td>\n",
              "      <td>1.0</td>\n",
              "    </tr>\n",
              "    <tr>\n",
              "      <th>1</th>\n",
              "      <td>3490</td>\n",
              "      <td>30.0</td>\n",
              "      <td>1</td>\n",
              "      <td>2</td>\n",
              "      <td>12.0</td>\n",
              "      <td>1</td>\n",
              "      <td>1</td>\n",
              "      <td>1.0</td>\n",
              "      <td>4.0</td>\n",
              "      <td>3</td>\n",
              "      <td>3.0</td>\n",
              "      <td>4.0</td>\n",
              "      <td>1</td>\n",
              "      <td>3</td>\n",
              "      <td>3.445506</td>\n",
              "      <td>300000.0</td>\n",
              "      <td>NaN</td>\n",
              "      <td>2</td>\n",
              "      <td>0</td>\n",
              "      <td>0.0</td>\n",
              "      <td>0</td>\n",
              "      <td>3.000000e+10</td>\n",
              "      <td>8.999978e+05</td>\n",
              "      <td>20.0</td>\n",
              "      <td>1.0</td>\n",
              "    </tr>\n",
              "    <tr>\n",
              "      <th>2</th>\n",
              "      <td>3491</td>\n",
              "      <td>25.0</td>\n",
              "      <td>1</td>\n",
              "      <td>1</td>\n",
              "      <td>9.0</td>\n",
              "      <td>0</td>\n",
              "      <td>1</td>\n",
              "      <td>1.0</td>\n",
              "      <td>4.0</td>\n",
              "      <td>4</td>\n",
              "      <td>3.0</td>\n",
              "      <td>1.0</td>\n",
              "      <td>0</td>\n",
              "      <td>3</td>\n",
              "      <td>4.000000</td>\n",
              "      <td>260000.0</td>\n",
              "      <td>NaN</td>\n",
              "      <td>3</td>\n",
              "      <td>0</td>\n",
              "      <td>0.0</td>\n",
              "      <td>0</td>\n",
              "      <td>2.600000e+10</td>\n",
              "      <td>3.119969e+06</td>\n",
              "      <td>17.0</td>\n",
              "      <td>1.0</td>\n",
              "    </tr>\n",
              "    <tr>\n",
              "      <th>3</th>\n",
              "      <td>3492</td>\n",
              "      <td>21.0</td>\n",
              "      <td>0</td>\n",
              "      <td>2</td>\n",
              "      <td>7.0</td>\n",
              "      <td>0</td>\n",
              "      <td>0</td>\n",
              "      <td>1.0</td>\n",
              "      <td>4.0</td>\n",
              "      <td>4</td>\n",
              "      <td>4.0</td>\n",
              "      <td>1.0</td>\n",
              "      <td>0</td>\n",
              "      <td>3</td>\n",
              "      <td>4.077367</td>\n",
              "      <td>259875.0</td>\n",
              "      <td>NaN</td>\n",
              "      <td>3</td>\n",
              "      <td>1</td>\n",
              "      <td>0.0</td>\n",
              "      <td>0</td>\n",
              "      <td>2.598750e+10</td>\n",
              "      <td>3.118469e+06</td>\n",
              "      <td>15.0</td>\n",
              "      <td>1.0</td>\n",
              "    </tr>\n",
              "    <tr>\n",
              "      <th>4</th>\n",
              "      <td>3493</td>\n",
              "      <td>41.0</td>\n",
              "      <td>0</td>\n",
              "      <td>1</td>\n",
              "      <td>7.0</td>\n",
              "      <td>0</td>\n",
              "      <td>0</td>\n",
              "      <td>1.0</td>\n",
              "      <td>4.0</td>\n",
              "      <td>4</td>\n",
              "      <td>3.0</td>\n",
              "      <td>1.0</td>\n",
              "      <td>0</td>\n",
              "      <td>4</td>\n",
              "      <td>4.000000</td>\n",
              "      <td>268830.0</td>\n",
              "      <td>NaN</td>\n",
              "      <td>0</td>\n",
              "      <td>1</td>\n",
              "      <td>0.0</td>\n",
              "      <td>0</td>\n",
              "      <td>2.688300e+10</td>\n",
              "      <td>3.225928e+06</td>\n",
              "      <td>15.0</td>\n",
              "      <td>1.0</td>\n",
              "    </tr>\n",
              "  </tbody>\n",
              "</table>\n",
              "</div>\n",
              "    <div class=\"colab-df-buttons\">\n",
              "\n",
              "  <div class=\"colab-df-container\">\n",
              "    <button class=\"colab-df-convert\" onclick=\"convertToInteractive('df-f3963f64-8ea3-4756-9fc9-dc4c4285e915')\"\n",
              "            title=\"Convert this dataframe to an interactive table.\"\n",
              "            style=\"display:none;\">\n",
              "\n",
              "  <svg xmlns=\"http://www.w3.org/2000/svg\" height=\"24px\" viewBox=\"0 -960 960 960\">\n",
              "    <path d=\"M120-120v-720h720v720H120Zm60-500h600v-160H180v160Zm220 220h160v-160H400v160Zm0 220h160v-160H400v160ZM180-400h160v-160H180v160Zm440 0h160v-160H620v160ZM180-180h160v-160H180v160Zm440 0h160v-160H620v160Z\"/>\n",
              "  </svg>\n",
              "    </button>\n",
              "\n",
              "  <style>\n",
              "    .colab-df-container {\n",
              "      display:flex;\n",
              "      gap: 12px;\n",
              "    }\n",
              "\n",
              "    .colab-df-convert {\n",
              "      background-color: #E8F0FE;\n",
              "      border: none;\n",
              "      border-radius: 50%;\n",
              "      cursor: pointer;\n",
              "      display: none;\n",
              "      fill: #1967D2;\n",
              "      height: 32px;\n",
              "      padding: 0 0 0 0;\n",
              "      width: 32px;\n",
              "    }\n",
              "\n",
              "    .colab-df-convert:hover {\n",
              "      background-color: #E2EBFA;\n",
              "      box-shadow: 0px 1px 2px rgba(60, 64, 67, 0.3), 0px 1px 3px 1px rgba(60, 64, 67, 0.15);\n",
              "      fill: #174EA6;\n",
              "    }\n",
              "\n",
              "    .colab-df-buttons div {\n",
              "      margin-bottom: 4px;\n",
              "    }\n",
              "\n",
              "    [theme=dark] .colab-df-convert {\n",
              "      background-color: #3B4455;\n",
              "      fill: #D2E3FC;\n",
              "    }\n",
              "\n",
              "    [theme=dark] .colab-df-convert:hover {\n",
              "      background-color: #434B5C;\n",
              "      box-shadow: 0px 1px 3px 1px rgba(0, 0, 0, 0.15);\n",
              "      filter: drop-shadow(0px 1px 2px rgba(0, 0, 0, 0.3));\n",
              "      fill: #FFFFFF;\n",
              "    }\n",
              "  </style>\n",
              "\n",
              "    <script>\n",
              "      const buttonEl =\n",
              "        document.querySelector('#df-f3963f64-8ea3-4756-9fc9-dc4c4285e915 button.colab-df-convert');\n",
              "      buttonEl.style.display =\n",
              "        google.colab.kernel.accessAllowed ? 'block' : 'none';\n",
              "\n",
              "      async function convertToInteractive(key) {\n",
              "        const element = document.querySelector('#df-f3963f64-8ea3-4756-9fc9-dc4c4285e915');\n",
              "        const dataTable =\n",
              "          await google.colab.kernel.invokeFunction('convertToInteractive',\n",
              "                                                    [key], {});\n",
              "        if (!dataTable) return;\n",
              "\n",
              "        const docLinkHtml = 'Like what you see? Visit the ' +\n",
              "          '<a target=\"_blank\" href=https://colab.research.google.com/notebooks/data_table.ipynb>data table notebook</a>'\n",
              "          + ' to learn more about interactive tables.';\n",
              "        element.innerHTML = '';\n",
              "        dataTable['output_type'] = 'display_data';\n",
              "        await google.colab.output.renderOutput(dataTable, element);\n",
              "        const docLink = document.createElement('div');\n",
              "        docLink.innerHTML = docLinkHtml;\n",
              "        element.appendChild(docLink);\n",
              "      }\n",
              "    </script>\n",
              "  </div>\n",
              "\n",
              "\n",
              "<div id=\"df-6eef215c-7454-4974-8495-78abb25c9ba6\">\n",
              "  <button class=\"colab-df-quickchart\" onclick=\"quickchart('df-6eef215c-7454-4974-8495-78abb25c9ba6')\"\n",
              "            title=\"Suggest charts\"\n",
              "            style=\"display:none;\">\n",
              "\n",
              "<svg xmlns=\"http://www.w3.org/2000/svg\" height=\"24px\"viewBox=\"0 0 24 24\"\n",
              "     width=\"24px\">\n",
              "    <g>\n",
              "        <path d=\"M19 3H5c-1.1 0-2 .9-2 2v14c0 1.1.9 2 2 2h14c1.1 0 2-.9 2-2V5c0-1.1-.9-2-2-2zM9 17H7v-7h2v7zm4 0h-2V7h2v10zm4 0h-2v-4h2v4z\"/>\n",
              "    </g>\n",
              "</svg>\n",
              "  </button>\n",
              "\n",
              "<style>\n",
              "  .colab-df-quickchart {\n",
              "      --bg-color: #E8F0FE;\n",
              "      --fill-color: #1967D2;\n",
              "      --hover-bg-color: #E2EBFA;\n",
              "      --hover-fill-color: #174EA6;\n",
              "      --disabled-fill-color: #AAA;\n",
              "      --disabled-bg-color: #DDD;\n",
              "  }\n",
              "\n",
              "  [theme=dark] .colab-df-quickchart {\n",
              "      --bg-color: #3B4455;\n",
              "      --fill-color: #D2E3FC;\n",
              "      --hover-bg-color: #434B5C;\n",
              "      --hover-fill-color: #FFFFFF;\n",
              "      --disabled-bg-color: #3B4455;\n",
              "      --disabled-fill-color: #666;\n",
              "  }\n",
              "\n",
              "  .colab-df-quickchart {\n",
              "    background-color: var(--bg-color);\n",
              "    border: none;\n",
              "    border-radius: 50%;\n",
              "    cursor: pointer;\n",
              "    display: none;\n",
              "    fill: var(--fill-color);\n",
              "    height: 32px;\n",
              "    padding: 0;\n",
              "    width: 32px;\n",
              "  }\n",
              "\n",
              "  .colab-df-quickchart:hover {\n",
              "    background-color: var(--hover-bg-color);\n",
              "    box-shadow: 0 1px 2px rgba(60, 64, 67, 0.3), 0 1px 3px 1px rgba(60, 64, 67, 0.15);\n",
              "    fill: var(--button-hover-fill-color);\n",
              "  }\n",
              "\n",
              "  .colab-df-quickchart-complete:disabled,\n",
              "  .colab-df-quickchart-complete:disabled:hover {\n",
              "    background-color: var(--disabled-bg-color);\n",
              "    fill: var(--disabled-fill-color);\n",
              "    box-shadow: none;\n",
              "  }\n",
              "\n",
              "  .colab-df-spinner {\n",
              "    border: 2px solid var(--fill-color);\n",
              "    border-color: transparent;\n",
              "    border-bottom-color: var(--fill-color);\n",
              "    animation:\n",
              "      spin 1s steps(1) infinite;\n",
              "  }\n",
              "\n",
              "  @keyframes spin {\n",
              "    0% {\n",
              "      border-color: transparent;\n",
              "      border-bottom-color: var(--fill-color);\n",
              "      border-left-color: var(--fill-color);\n",
              "    }\n",
              "    20% {\n",
              "      border-color: transparent;\n",
              "      border-left-color: var(--fill-color);\n",
              "      border-top-color: var(--fill-color);\n",
              "    }\n",
              "    30% {\n",
              "      border-color: transparent;\n",
              "      border-left-color: var(--fill-color);\n",
              "      border-top-color: var(--fill-color);\n",
              "      border-right-color: var(--fill-color);\n",
              "    }\n",
              "    40% {\n",
              "      border-color: transparent;\n",
              "      border-right-color: var(--fill-color);\n",
              "      border-top-color: var(--fill-color);\n",
              "    }\n",
              "    60% {\n",
              "      border-color: transparent;\n",
              "      border-right-color: var(--fill-color);\n",
              "    }\n",
              "    80% {\n",
              "      border-color: transparent;\n",
              "      border-right-color: var(--fill-color);\n",
              "      border-bottom-color: var(--fill-color);\n",
              "    }\n",
              "    90% {\n",
              "      border-color: transparent;\n",
              "      border-bottom-color: var(--fill-color);\n",
              "    }\n",
              "  }\n",
              "</style>\n",
              "\n",
              "  <script>\n",
              "    async function quickchart(key) {\n",
              "      const quickchartButtonEl =\n",
              "        document.querySelector('#' + key + ' button');\n",
              "      quickchartButtonEl.disabled = true;  // To prevent multiple clicks.\n",
              "      quickchartButtonEl.classList.add('colab-df-spinner');\n",
              "      try {\n",
              "        const charts = await google.colab.kernel.invokeFunction(\n",
              "            'suggestCharts', [key], {});\n",
              "      } catch (error) {\n",
              "        console.error('Error during call to suggestCharts:', error);\n",
              "      }\n",
              "      quickchartButtonEl.classList.remove('colab-df-spinner');\n",
              "      quickchartButtonEl.classList.add('colab-df-quickchart-complete');\n",
              "    }\n",
              "    (() => {\n",
              "      let quickchartButtonEl =\n",
              "        document.querySelector('#df-6eef215c-7454-4974-8495-78abb25c9ba6 button');\n",
              "      quickchartButtonEl.style.display =\n",
              "        google.colab.kernel.accessAllowed ? 'block' : 'none';\n",
              "    })();\n",
              "  </script>\n",
              "</div>\n",
              "\n",
              "    </div>\n",
              "  </div>\n"
            ],
            "application/vnd.google.colaboratory.intrinsic+json": {
              "type": "dataframe",
              "variable_name": "df_train"
            }
          },
          "metadata": {},
          "execution_count": 7
        }
      ]
    },
    {
      "cell_type": "markdown",
      "source": [],
      "metadata": {
        "id": "27h0A8rrBEUZ"
      }
    },
    {
      "cell_type": "code",
      "source": [
        "# Config cell\n",
        "target = \"ProdTaken\""
      ],
      "metadata": {
        "id": "chhVV9ed_Yjt"
      },
      "execution_count": 37,
      "outputs": []
    },
    {
      "cell_type": "code",
      "source": [
        "# デフォルトの特徴量リスト\n",
        "default_categorical_features = [\n",
        "    'TypeofContact', 'CityTier', 'Occupation', 'Gender', 'ProductPitched',\n",
        "    'PreferredPropertyStar', 'Passport', 'PitchSatisfactionScore',\n",
        "    'Designation', 'MaritalStatus'\n",
        "]\n",
        "\n",
        "default_numerical_features = [\n",
        "    'id', 'Age', 'DurationOfPitch', 'MonthlyIncome', 'NumberOfPersonVisiting',\n",
        "    'NumberOfFollowups', 'NumberOfTrips', 'NumberOfChildren', 'OwnCar'\n",
        "]\n",
        "\n",
        "# 追加の数値特徴量\n",
        "added_numerical_features = [\n",
        "    'HasChildren', 'IncomePerChild', 'AnnualIncomePerTrip',\n",
        "    'PitchPlusFollowups', 'AdultTravelers'\n",
        "]\n",
        "\n",
        "# 数値特徴量の結合\n",
        "numerical_features = default_numerical_features + added_numerical_features\n",
        "\n",
        "# データフレームからすべての特徴量を取得\n",
        "features = df_train.columns.tolist()\n",
        "\n",
        "# カテゴリカル特徴量の決定\n",
        "categorical_features = copy.deepcopy(features)\n",
        "for feature in numerical_features:\n",
        "    if feature in categorical_features:\n",
        "        categorical_features.remove(feature)\n",
        "\n",
        "print(f'数値特徴量: {numerical_features}')\n",
        "print(f'カテゴリカル特徴量: {categorical_features}')\n",
        "\n",
        "# 学習から除外する特徴量の削除\n",
        "remove_list = ['id', target]\n",
        "for item in remove_list:\n",
        "    if item in features:\n",
        "        features.remove(item)\n",
        "    if item in numerical_features:\n",
        "        numerical_features.remove(item)\n",
        "    if item in categorical_features:\n",
        "        categorical_features.remove(item)\n",
        "\n",
        "print(f'学習に使用する特徴量: {features}')\n",
        "\n",
        "# カテゴリカル特徴量を整数型に変換\n",
        "for col in categorical_features:\n",
        "    df_train[col] = df_train[col].astype(int)\n",
        "    df_test[col] = df_test[col].astype(int)"
      ],
      "metadata": {
        "colab": {
          "base_uri": "https://localhost:8080/"
        },
        "id": "mlcm8YyhA3eB",
        "outputId": "ff4683a5-f228-43ae-8884-8743112f367f"
      },
      "execution_count": 67,
      "outputs": [
        {
          "output_type": "stream",
          "name": "stdout",
          "text": [
            "数値特徴量: ['id', 'Age', 'DurationOfPitch', 'MonthlyIncome', 'NumberOfPersonVisiting', 'NumberOfFollowups', 'NumberOfTrips', 'NumberOfChildren', 'OwnCar', 'HasChildren', 'IncomePerChild', 'AnnualIncomePerTrip', 'PitchPlusFollowups', 'AdultTravelers']\n",
            "カテゴリカル特徴量: ['TypeofContact', 'CityTier', 'Occupation', 'Gender', 'ProductPitched', 'PreferredPropertyStar', 'Passport', 'PitchSatisfactionScore', 'Designation', 'ProdTaken', 'MaritalStatus', 'ProductPitched_Designation']\n",
            "学習に使用する特徴量: ['Age', 'TypeofContact', 'CityTier', 'DurationOfPitch', 'Occupation', 'Gender', 'NumberOfPersonVisiting', 'NumberOfFollowups', 'ProductPitched', 'PreferredPropertyStar', 'NumberOfTrips', 'Passport', 'PitchSatisfactionScore', 'Designation', 'MonthlyIncome', 'MaritalStatus', 'OwnCar', 'NumberOfChildren', 'HasChildren', 'IncomePerChild', 'AnnualIncomePerTrip', 'PitchPlusFollowups', 'AdultTravelers', 'ProductPitched_Designation']\n"
          ]
        }
      ]
    },
    {
      "cell_type": "code",
      "source": [
        "cols_category=categorical_features"
      ],
      "metadata": {
        "id": "m95qoIe1CSUz"
      },
      "execution_count": 68,
      "outputs": []
    },
    {
      "cell_type": "code",
      "source": [
        "train_y = df_train[target]\n",
        "train_x = df_train.drop(target, axis=1)"
      ],
      "metadata": {
        "id": "VYQ31nPEJ-FR"
      },
      "execution_count": 69,
      "outputs": []
    },
    {
      "cell_type": "code",
      "source": [
        "\n",
        "params_cat = {\n",
        "    \"iterations\": 1000,  # n_estimatorsに相当\n",
        "    'eval_metric' : 'AUC',\n",
        "    'depth':1,\n",
        "    'l2_leaf_reg' : 8,\n",
        "    \"learning_rate\": 0.1,\n",
        "    \"colsample_bylevel\": 0.8,  # colsample_bytreeに相当\n",
        "    'one_hot_max_size' : 25,\n",
        "    \"random_seed\": 0,\n",
        "    \"verbose\": 100,  # 学習の進捗を100回毎に表示\n",
        "    \"use_best_model\": True,  # 早期停止のための設定\n",
        "}"
      ],
      "metadata": {
        "id": "Rv2nSr5T8aPJ"
      },
      "execution_count": 71,
      "outputs": []
    },
    {
      "cell_type": "code",
      "source": [
        "\n",
        "# f1スコアが最も高くなる点を見つける\n",
        "from sklearn import metrics\n",
        "def decide_cutoff(val_y, preds_y_proba):\n",
        "    mean_f1_list = []\n",
        "    fpr, tpr, thresholds = metrics.roc_curve(val_y, preds_y_proba)\n",
        "    for threshold in thresholds:\n",
        "        preds_y = [1 if prob > threshold else 0 for prob in preds_y_proba]\n",
        "        #preds_y=preds_y_proba\n",
        "        mean_f1_list.append(f1_score(val_y, preds_y, average='macro'))\n",
        "    return np.max(mean_f1_list), thresholds[np.argmax(mean_f1_list)]"
      ],
      "metadata": {
        "id": "1W6fRjos-pCm"
      },
      "execution_count": 72,
      "outputs": []
    },
    {
      "cell_type": "code",
      "source": [
        "!pip install shap"
      ],
      "metadata": {
        "colab": {
          "base_uri": "https://localhost:8080/"
        },
        "id": "d2VbqCszLswh",
        "outputId": "8c0c47ee-e169-4cd5-af39-47e1991d133a"
      },
      "execution_count": 73,
      "outputs": [
        {
          "output_type": "stream",
          "name": "stdout",
          "text": [
            "Requirement already satisfied: shap in /usr/local/lib/python3.10/dist-packages (0.46.0)\n",
            "Requirement already satisfied: numpy in /usr/local/lib/python3.10/dist-packages (from shap) (1.26.4)\n",
            "Requirement already satisfied: scipy in /usr/local/lib/python3.10/dist-packages (from shap) (1.13.1)\n",
            "Requirement already satisfied: scikit-learn in /usr/local/lib/python3.10/dist-packages (from shap) (1.3.2)\n",
            "Requirement already satisfied: pandas in /usr/local/lib/python3.10/dist-packages (from shap) (2.1.4)\n",
            "Requirement already satisfied: tqdm>=4.27.0 in /usr/local/lib/python3.10/dist-packages (from shap) (4.66.5)\n",
            "Requirement already satisfied: packaging>20.9 in /usr/local/lib/python3.10/dist-packages (from shap) (24.1)\n",
            "Requirement already satisfied: slicer==0.0.8 in /usr/local/lib/python3.10/dist-packages (from shap) (0.0.8)\n",
            "Requirement already satisfied: numba in /usr/local/lib/python3.10/dist-packages (from shap) (0.60.0)\n",
            "Requirement already satisfied: cloudpickle in /usr/local/lib/python3.10/dist-packages (from shap) (2.2.1)\n",
            "Requirement already satisfied: llvmlite<0.44,>=0.43.0dev0 in /usr/local/lib/python3.10/dist-packages (from numba->shap) (0.43.0)\n",
            "Requirement already satisfied: python-dateutil>=2.8.2 in /usr/local/lib/python3.10/dist-packages (from pandas->shap) (2.8.2)\n",
            "Requirement already satisfied: pytz>=2020.1 in /usr/local/lib/python3.10/dist-packages (from pandas->shap) (2024.1)\n",
            "Requirement already satisfied: tzdata>=2022.1 in /usr/local/lib/python3.10/dist-packages (from pandas->shap) (2024.1)\n",
            "Requirement already satisfied: joblib>=1.1.1 in /usr/local/lib/python3.10/dist-packages (from scikit-learn->shap) (1.4.2)\n",
            "Requirement already satisfied: threadpoolctl>=2.0.0 in /usr/local/lib/python3.10/dist-packages (from scikit-learn->shap) (3.5.0)\n",
            "Requirement already satisfied: six>=1.5 in /usr/local/lib/python3.10/dist-packages (from python-dateutil>=2.8.2->pandas->shap) (1.16.0)\n"
          ]
        }
      ]
    },
    {
      "cell_type": "code",
      "source": [
        "import shap"
      ],
      "metadata": {
        "id": "XUjVvOjnLjv0"
      },
      "execution_count": 54,
      "outputs": []
    },
    {
      "cell_type": "code",
      "source": [
        "list_metrics_auc = []\n",
        "list_metrics_f1 = []\n",
        "list_cutoff = []\n",
        "list_models = []\n",
        "fraction_of_positives_list = []\n",
        "mean_predicted_value_list = []\n",
        "shap_values_list = []\n",
        "\n",
        "list_feature_importances = []  # 特徴量重要度を格納するリスト\n",
        "\n",
        "cv = StratifiedKFold(n_splits=7, shuffle=True, random_state=42)\n",
        "for fold, (trn_idx, val_idx) in enumerate(cv.split(train_x, train_y), start=1):\n",
        "    trn_x = train_x[features].iloc[trn_idx, :]\n",
        "    trn_y = train_y[trn_idx]\n",
        "    val_x = train_x[features].iloc[val_idx, :]\n",
        "    val_y = train_y[val_idx]\n",
        "    train_pool = Pool(data=trn_x, label=trn_y, cat_features=cols_category)\n",
        "    val_pool = Pool(data=val_x, label=val_y, cat_features=cols_category)\n",
        "\n",
        "    model_cat = CatBoostClassifier(**params_cat, early_stopping_rounds=100)\n",
        "    model_cat.fit(train_pool, eval_set=val_pool)\n",
        "\n",
        "    list_models.append(model_cat)\n",
        "    preds_y_proba = model_cat.predict_proba(val_pool)[:, 1]\n",
        "    auc = roc_auc_score(val_y, preds_y_proba)\n",
        "    f1, threshold = decide_cutoff(val_y, preds_y_proba)\n",
        "    list_metrics_auc.append(auc)\n",
        "    list_metrics_f1.append(f1)\n",
        "    list_cutoff.append(threshold)\n",
        "    print(f\"Fold: {fold}, AUC: {auc}, f1 score: {f1} Threshold: {threshold}\")\n",
        "\n",
        "    # 特徴量の重要度を追加\n",
        "    feature_importances = model_cat.get_feature_importance()\n",
        "    list_feature_importances.append(feature_importances)\n",
        "\n",
        "# AUCの出力\n",
        "print(\"Mean AUC:\", np.mean(list_metrics_auc))\n",
        "print(\"Mean F1 Score:\", np.mean(list_metrics_f1))\n",
        "print(\"Median Cutoff:\", np.median(list_cutoff))\n",
        "\n",
        "# 特徴量重要度の集計\n",
        "mean_feature_importances = np.mean(list_feature_importances, axis=0)\n",
        "\n",
        "# 結果の表示\n",
        "feature_importance_df = pd.DataFrame({\n",
        "    'Feature': features,\n",
        "    'Mean Importance': mean_feature_importances\n",
        "}).sort_values(by='Mean Importance', ascending=False)\n",
        "\n",
        "print(\"Feature Importances:\")\n",
        "print(feature_importance_df)"
      ],
      "metadata": {
        "colab": {
          "base_uri": "https://localhost:8080/"
        },
        "id": "GW11r17--6Yv",
        "outputId": "7ca4d947-2dc6-4aa7-99d9-a5d8c56ef30e"
      },
      "execution_count": 74,
      "outputs": [
        {
          "output_type": "stream",
          "name": "stdout",
          "text": [
            "0:\ttest: 0.7412301\tbest: 0.7412301 (0)\ttotal: 1.75ms\tremaining: 1.75s\n",
            "100:\ttest: 0.8471436\tbest: 0.8493978 (82)\ttotal: 133ms\tremaining: 1.19s\n",
            "200:\ttest: 0.8520798\tbest: 0.8534948 (165)\ttotal: 339ms\tremaining: 1.34s\n",
            "Stopped by overfitting detector  (100 iterations wait)\n",
            "\n",
            "bestTest = 0.8534948006\n",
            "bestIteration = 165\n",
            "\n",
            "Shrink model to first 166 iterations.\n",
            "Fold: 1, AUC: 0.8534948005791759, f1 score: 0.7222778779581023 Threshold: 0.2176122050312874\n",
            "0:\ttest: 0.6931025\tbest: 0.6931025 (0)\ttotal: 1.56ms\tremaining: 1.56s\n",
            "100:\ttest: 0.8257371\tbest: 0.8261485 (96)\ttotal: 292ms\tremaining: 2.6s\n",
            "200:\ttest: 0.8376333\tbest: 0.8378307 (199)\ttotal: 560ms\tremaining: 2.22s\n",
            "300:\ttest: 0.8419113\tbest: 0.8422733 (296)\ttotal: 704ms\tremaining: 1.63s\n",
            "400:\ttest: 0.8449059\tbest: 0.8454324 (377)\ttotal: 1.02s\tremaining: 1.53s\n",
            "500:\ttest: 0.8461235\tbest: 0.8464525 (494)\ttotal: 1.28s\tremaining: 1.27s\n",
            "600:\ttest: 0.8478347\tbest: 0.8479992 (589)\ttotal: 1.65s\tremaining: 1.09s\n",
            "700:\ttest: 0.8478676\tbest: 0.8484599 (620)\ttotal: 1.96s\tremaining: 837ms\n",
            "Stopped by overfitting detector  (100 iterations wait)\n",
            "\n",
            "bestTest = 0.8484599184\n",
            "bestIteration = 620\n",
            "\n",
            "Shrink model to first 621 iterations.\n",
            "Fold: 2, AUC: 0.8484599183888377, f1 score: 0.7516486251088715 Threshold: 0.3305412257133632\n",
            "0:\ttest: 0.7471041\tbest: 0.7471041 (0)\ttotal: 1.15ms\tremaining: 1.15s\n",
            "100:\ttest: 0.8485422\tbest: 0.8501876 (92)\ttotal: 296ms\tremaining: 2.64s\n",
            "Stopped by overfitting detector  (100 iterations wait)\n",
            "\n",
            "bestTest = 0.850187574\n",
            "bestIteration = 92\n",
            "\n",
            "Shrink model to first 93 iterations.\n",
            "Fold: 3, AUC: 0.8501875740423852, f1 score: 0.7555462243683952 Threshold: 0.3447152334318705\n",
            "0:\ttest: 0.7010093\tbest: 0.7010093 (0)\ttotal: 6.12ms\tremaining: 6.12s\n",
            "100:\ttest: 0.8151037\tbest: 0.8152027 (95)\ttotal: 631ms\tremaining: 5.61s\n",
            "200:\ttest: 0.8316456\tbest: 0.8320084 (198)\ttotal: 1.37s\tremaining: 5.46s\n",
            "300:\ttest: 0.8369891\tbest: 0.8376818 (293)\ttotal: 2.19s\tremaining: 5.09s\n",
            "400:\ttest: 0.8421348\tbest: 0.8421348 (400)\ttotal: 2.9s\tremaining: 4.33s\n",
            "500:\ttest: 0.8440149\tbest: 0.8440149 (500)\ttotal: 3.52s\tremaining: 3.51s\n",
            "600:\ttest: 0.8455487\tbest: 0.8457466 (589)\ttotal: 4.06s\tremaining: 2.7s\n",
            "700:\ttest: 0.8458785\tbest: 0.8465382 (637)\ttotal: 4.36s\tremaining: 1.86s\n",
            "Stopped by overfitting detector  (100 iterations wait)\n",
            "\n",
            "bestTest = 0.8465382459\n",
            "bestIteration = 637\n",
            "\n",
            "Shrink model to first 638 iterations.\n",
            "Fold: 4, AUC: 0.8465382458686546, f1 score: 0.7164504300691603 Threshold: 0.2173557313474384\n",
            "0:\ttest: 0.7350661\tbest: 0.7350661 (0)\ttotal: 1.37ms\tremaining: 1.37s\n",
            "100:\ttest: 0.8257743\tbest: 0.8261701 (95)\ttotal: 404ms\tremaining: 3.6s\n",
            "200:\ttest: 0.8334433\tbest: 0.8342019 (185)\ttotal: 796ms\tremaining: 3.17s\n",
            "300:\ttest: 0.8341525\tbest: 0.8356698 (257)\ttotal: 1.25s\tremaining: 2.89s\n",
            "Stopped by overfitting detector  (100 iterations wait)\n",
            "\n",
            "bestTest = 0.8356697562\n",
            "bestIteration = 257\n",
            "\n",
            "Shrink model to first 258 iterations.\n",
            "Fold: 5, AUC: 0.8356697562423723, f1 score: 0.731491850192858 Threshold: 0.274921234083217\n",
            "0:\ttest: 0.7503051\tbest: 0.7503051 (0)\ttotal: 1.53ms\tremaining: 1.53s\n",
            "100:\ttest: 0.8877692\tbest: 0.8878352 (97)\ttotal: 372ms\tremaining: 3.31s\n",
            "200:\ttest: 0.8932942\tbest: 0.8937560 (189)\ttotal: 881ms\tremaining: 3.5s\n",
            "300:\ttest: 0.8930303\tbest: 0.8944157 (221)\ttotal: 1.25s\tremaining: 2.9s\n",
            "Stopped by overfitting detector  (100 iterations wait)\n",
            "\n",
            "bestTest = 0.8944156744\n",
            "bestIteration = 221\n",
            "\n",
            "Shrink model to first 222 iterations.\n",
            "Fold: 6, AUC: 0.8944156743741136, f1 score: 0.7672897196261682 Threshold: 0.30206064345833866\n",
            "0:\ttest: 0.6927961\tbest: 0.6927961 (0)\ttotal: 1.2ms\tremaining: 1.2s\n",
            "100:\ttest: 0.8193588\tbest: 0.8193588 (100)\ttotal: 429ms\tremaining: 3.82s\n",
            "200:\ttest: 0.8251146\tbest: 0.8265660 (176)\ttotal: 752ms\tremaining: 2.99s\n",
            "300:\ttest: 0.8282812\tbest: 0.8283471 (276)\ttotal: 1.09s\tremaining: 2.53s\n",
            "400:\ttest: 0.8285780\tbest: 0.8290398 (395)\ttotal: 1.52s\tremaining: 2.28s\n",
            "500:\ttest: 0.8299634\tbest: 0.8300294 (493)\ttotal: 1.99s\tremaining: 1.98s\n",
            "600:\ttest: 0.8301943\tbest: 0.8307550 (561)\ttotal: 2.67s\tremaining: 1.77s\n",
            "Stopped by overfitting detector  (100 iterations wait)\n",
            "\n",
            "bestTest = 0.8307550219\n",
            "bestIteration = 561\n",
            "\n",
            "Shrink model to first 562 iterations.\n",
            "Fold: 7, AUC: 0.8307550219348879, f1 score: 0.7143039265680775 Threshold: 0.28112658714826644\n",
            "Mean AUC: 0.8513601416329182\n",
            "Mean F1 Score: 0.7370012362702333\n",
            "Median Cutoff: 0.28112658714826644\n",
            "Feature Importances:\n",
            "                       Feature  Mean Importance\n",
            "8               ProductPitched        14.316147\n",
            "23  ProductPitched_Designation        14.128137\n",
            "13                 Designation        12.384550\n",
            "15               MaritalStatus        10.473826\n",
            "11                    Passport         9.446929\n",
            "14               MonthlyIncome         9.034432\n",
            "0                          Age         5.797432\n",
            "2                     CityTier         5.361799\n",
            "5                       Gender         4.617726\n",
            "20         AnnualIncomePerTrip         3.093145\n",
            "12      PitchSatisfactionScore         1.789946\n",
            "1                TypeofContact         1.578959\n",
            "19              IncomePerChild         1.374971\n",
            "21          PitchPlusFollowups         1.285388\n",
            "10               NumberOfTrips         1.026855\n",
            "7            NumberOfFollowups         0.954978\n",
            "9        PreferredPropertyStar         0.890981\n",
            "3              DurationOfPitch         0.879506\n",
            "16                      OwnCar         0.625318\n",
            "4                   Occupation         0.367666\n",
            "22              AdultTravelers         0.312867\n",
            "6       NumberOfPersonVisiting         0.120661\n",
            "18                 HasChildren         0.099222\n",
            "17            NumberOfChildren         0.038560\n"
          ]
        }
      ]
    },
    {
      "cell_type": "code",
      "source": [
        "0.8497045879206161"
      ],
      "metadata": {
        "colab": {
          "base_uri": "https://localhost:8080/",
          "height": 106
        },
        "id": "aFmVMidRT2Bc",
        "outputId": "14c60243-b524-43a2-f332-934eae44d1f3"
      },
      "execution_count": null,
      "outputs": [
        {
          "output_type": "error",
          "ename": "SyntaxError",
          "evalue": "invalid syntax (<ipython-input-81-76ea1f53a6c0>, line 1)",
          "traceback": [
            "\u001b[0;36m  File \u001b[0;32m\"<ipython-input-81-76ea1f53a6c0>\"\u001b[0;36m, line \u001b[0;32m1\u001b[0m\n\u001b[0;31m    Mean AUC: 0.8420388335705169\u001b[0m\n\u001b[0m         ^\u001b[0m\n\u001b[0;31mSyntaxError\u001b[0m\u001b[0;31m:\u001b[0m invalid syntax\n"
          ]
        }
      ]
    },
    {
      "cell_type": "code",
      "source": [],
      "metadata": {
        "id": "EdMFFpTuPG0M"
      },
      "execution_count": null,
      "outputs": []
    },
    {
      "cell_type": "code",
      "source": [],
      "metadata": {
        "id": "Uppd51mbPG2_"
      },
      "execution_count": null,
      "outputs": []
    },
    {
      "cell_type": "code",
      "source": [
        "0.8437365146029495"
      ],
      "metadata": {
        "id": "dQsXqJWDdXKZ"
      },
      "execution_count": null,
      "outputs": []
    },
    {
      "cell_type": "code",
      "source": [],
      "metadata": {
        "id": "SZepdoZDEjma"
      },
      "execution_count": null,
      "outputs": []
    },
    {
      "cell_type": "code",
      "source": [
        "import pickle"
      ],
      "metadata": {
        "id": "aR74EvhLFpSc"
      },
      "execution_count": 31,
      "outputs": []
    },
    {
      "cell_type": "code",
      "source": [
        "# モデルを保存する\n",
        "# 全てのモデルを保存する\n",
        "for fold, model_cat in enumerate(list_models, start=1):\n",
        "    with open(f'/content/drive/MyDrive/Signate/2024summer/models/catboost_fold_v12{fold}.pkl', 'wb') as f:\n",
        "        pickle.dump(model_cat, f)"
      ],
      "metadata": {
        "id": "1gtDpO1xGCLL"
      },
      "execution_count": 32,
      "outputs": []
    },
    {
      "cell_type": "code",
      "source": [
        "\n",
        "\n",
        "threshold = np.median(list_cutoff)\n",
        "preds_y_proba = np.zeros(len(df_test))\n",
        "for model in list_models:\n",
        "    feature_names = model.feature_names_\n",
        "    preds_y_proba += model.predict_proba(df_test[feature_names])[:, 1] / len(list_models)\n",
        "    print(f\"Model: {model}, Proba: {preds_y_proba}\")  # 予測確率を表示\n",
        "preds_y = preds_y_proba\n",
        "\n"
      ],
      "metadata": {
        "colab": {
          "base_uri": "https://localhost:8080/"
        },
        "id": "cg8STlKEHfz0",
        "outputId": "b3a0001c-ea73-4e2f-de00-39dddf24a7c7"
      },
      "execution_count": 33,
      "outputs": [
        {
          "output_type": "stream",
          "name": "stdout",
          "text": [
            "Model: <catboost.core.CatBoostClassifier object at 0x7d2848b19630>, Proba: [0.01355773 0.02475626 0.0360633  ... 0.07731399 0.03559452 0.00184477]\n",
            "Model: <catboost.core.CatBoostClassifier object at 0x7d2849582e60>, Proba: [0.02909037 0.06344698 0.07571399 ... 0.16205036 0.06661662 0.00258255]\n",
            "Model: <catboost.core.CatBoostClassifier object at 0x7d2848ae6a10>, Proba: [0.03879153 0.08964563 0.11112691 ... 0.24537928 0.10815506 0.00555456]\n",
            "Model: <catboost.core.CatBoostClassifier object at 0x7d2848b382e0>, Proba: [0.051437   0.13036282 0.14575474 ... 0.3396673  0.14022192 0.00629054]\n",
            "Model: <catboost.core.CatBoostClassifier object at 0x7d2848ae74c0>, Proba: [0.06275489 0.16689703 0.18581478 ... 0.43209416 0.17269807 0.00747531]\n",
            "Model: <catboost.core.CatBoostClassifier object at 0x7d2848b3bf40>, Proba: [0.07437803 0.1984235  0.22154697 ... 0.5132422  0.20572464 0.00888703]\n",
            "Model: <catboost.core.CatBoostClassifier object at 0x7d28808473d0>, Proba: [0.08751643 0.23724194 0.25783221 ... 0.61133363 0.24278213 0.00948959]\n"
          ]
        }
      ]
    },
    {
      "cell_type": "code",
      "source": [
        "count = 70"
      ],
      "metadata": {
        "id": "r3jW57TBIfkZ"
      },
      "execution_count": 34,
      "outputs": []
    },
    {
      "cell_type": "code",
      "source": [
        "\n",
        "from datetime import datetime\n",
        "import pytz\n",
        "# カウント変数をインクリメント\n",
        "count += 1\n",
        "# 日本時間を取得\n",
        "japan_tz = pytz.timezone('Asia/Tokyo')\n",
        "now = datetime.now(japan_tz)\n",
        "timestamp = now.strftime(\"%Y%m%d_%H%M%S\")\n",
        "\n",
        "file_name = f\"/content/drive/MyDrive/Signate/2024summer/catboost_{timestamp}_{count:03d}.csv\"\n",
        "ss[1] = preds_y\n",
        "ss.to_csv(file_name, header=False, index=False)"
      ],
      "metadata": {
        "id": "ImOkzJPsIfnO"
      },
      "execution_count": 35,
      "outputs": []
    }
  ]
}